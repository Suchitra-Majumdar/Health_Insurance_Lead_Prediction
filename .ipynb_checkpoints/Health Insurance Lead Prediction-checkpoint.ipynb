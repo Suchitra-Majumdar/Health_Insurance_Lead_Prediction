{
 "cells": [
  {
   "cell_type": "markdown",
   "metadata": {},
   "source": [
    "## Health Insurance Lead Prediction"
   ]
  },
  {
   "cell_type": "markdown",
   "metadata": {},
   "source": [
    "#### Your Client FinMan is a financial services company that provides various financial services like loan, investment funds, insurance etc. to its customers. FinMan wishes to cross-sell health insurance to the existing customers who may or may not hold insurance policies with the company. The company recommend health insurance to it's customers based on their profile once these customers land on the website. Customers might browse the recommended health insurance policy and consequently fill up a form to apply. When these customers fill-up the form, their Response towards the policy is considered positive and they are classified as a lead.\n",
    "\n",
    "#### Once these leads are acquired, the sales advisors approach them to convert and thus the company can sell proposed health insurance to these leads in a more efficient manner.\n",
    "\n",
    "#### Now the company needs your help in building a model to predict whether the person will be interested in their proposed Health plan/policy given the information about:\n",
    "\n",
    "##### Demographics (city, age, region etc.)\n",
    "##### Information regarding holding policies of the customer\n",
    "##### Recommended Policy Information"
   ]
  },
  {
   "cell_type": "markdown",
   "metadata": {},
   "source": [
    "<img src=\"Data_Dictionary.png\">"
   ]
  },
  {
   "cell_type": "code",
   "execution_count": 58,
   "metadata": {},
   "outputs": [],
   "source": [
    "import pandas as pd\n",
    "import numpy as np\n",
    "import matplotlib.pyplot as plt\n",
    "import re"
   ]
  },
  {
   "cell_type": "code",
   "execution_count": 59,
   "metadata": {},
   "outputs": [],
   "source": [
    "df = pd.read_csv(\"Data/train.csv\")"
   ]
  },
  {
   "cell_type": "code",
   "execution_count": 3,
   "metadata": {},
   "outputs": [
    {
     "name": "stdout",
     "output_type": "stream",
     "text": [
      "<class 'pandas.core.frame.DataFrame'>\n",
      "RangeIndex: 50882 entries, 0 to 50881\n",
      "Data columns (total 14 columns):\n",
      " #   Column                   Non-Null Count  Dtype  \n",
      "---  ------                   --------------  -----  \n",
      " 0   ID                       50882 non-null  int64  \n",
      " 1   City_Code                50882 non-null  object \n",
      " 2   Region_Code              50882 non-null  int64  \n",
      " 3   Accomodation_Type        50882 non-null  object \n",
      " 4   Reco_Insurance_Type      50882 non-null  object \n",
      " 5   Upper_Age                50882 non-null  int64  \n",
      " 6   Lower_Age                50882 non-null  int64  \n",
      " 7   Is_Spouse                50882 non-null  object \n",
      " 8   Health Indicator         39191 non-null  object \n",
      " 9   Holding_Policy_Duration  30631 non-null  object \n",
      " 10  Holding_Policy_Type      30631 non-null  float64\n",
      " 11  Reco_Policy_Cat          50882 non-null  int64  \n",
      " 12  Reco_Policy_Premium      50882 non-null  float64\n",
      " 13  Response                 50882 non-null  int64  \n",
      "dtypes: float64(2), int64(6), object(6)\n",
      "memory usage: 5.4+ MB\n"
     ]
    }
   ],
   "source": [
    "df.info()"
   ]
  },
  {
   "cell_type": "code",
   "execution_count": 5,
   "metadata": {},
   "outputs": [
    {
     "data": {
      "text/plain": [
       "ID                             0\n",
       "City_Code                      0\n",
       "Region_Code                    0\n",
       "Accomodation_Type              0\n",
       "Reco_Insurance_Type            0\n",
       "Upper_Age                      0\n",
       "Lower_Age                      0\n",
       "Is_Spouse                      0\n",
       "Health Indicator           11691\n",
       "Holding_Policy_Duration    20251\n",
       "Holding_Policy_Type        20251\n",
       "Reco_Policy_Cat                0\n",
       "Reco_Policy_Premium            0\n",
       "Response                       0\n",
       "dtype: int64"
      ]
     },
     "execution_count": 5,
     "metadata": {},
     "output_type": "execute_result"
    }
   ],
   "source": [
    "df.isnull().sum()"
   ]
  },
  {
   "cell_type": "code",
   "execution_count": 6,
   "metadata": {},
   "outputs": [
    {
     "data": {
      "text/html": [
       "<div>\n",
       "<style scoped>\n",
       "    .dataframe tbody tr th:only-of-type {\n",
       "        vertical-align: middle;\n",
       "    }\n",
       "\n",
       "    .dataframe tbody tr th {\n",
       "        vertical-align: top;\n",
       "    }\n",
       "\n",
       "    .dataframe thead th {\n",
       "        text-align: right;\n",
       "    }\n",
       "</style>\n",
       "<table border=\"1\" class=\"dataframe\">\n",
       "  <thead>\n",
       "    <tr style=\"text-align: right;\">\n",
       "      <th></th>\n",
       "      <th>ID</th>\n",
       "      <th>City_Code</th>\n",
       "      <th>Region_Code</th>\n",
       "      <th>Accomodation_Type</th>\n",
       "      <th>Reco_Insurance_Type</th>\n",
       "      <th>Upper_Age</th>\n",
       "      <th>Lower_Age</th>\n",
       "      <th>Is_Spouse</th>\n",
       "      <th>Health Indicator</th>\n",
       "      <th>Holding_Policy_Duration</th>\n",
       "      <th>Holding_Policy_Type</th>\n",
       "      <th>Reco_Policy_Cat</th>\n",
       "      <th>Reco_Policy_Premium</th>\n",
       "      <th>Response</th>\n",
       "    </tr>\n",
       "  </thead>\n",
       "  <tbody>\n",
       "    <tr>\n",
       "      <th>0</th>\n",
       "      <td>1</td>\n",
       "      <td>C3</td>\n",
       "      <td>3213</td>\n",
       "      <td>Rented</td>\n",
       "      <td>Individual</td>\n",
       "      <td>36</td>\n",
       "      <td>36</td>\n",
       "      <td>No</td>\n",
       "      <td>X1</td>\n",
       "      <td>14+</td>\n",
       "      <td>3.0</td>\n",
       "      <td>22</td>\n",
       "      <td>11628.0</td>\n",
       "      <td>0</td>\n",
       "    </tr>\n",
       "    <tr>\n",
       "      <th>1</th>\n",
       "      <td>2</td>\n",
       "      <td>C5</td>\n",
       "      <td>1117</td>\n",
       "      <td>Owned</td>\n",
       "      <td>Joint</td>\n",
       "      <td>75</td>\n",
       "      <td>22</td>\n",
       "      <td>No</td>\n",
       "      <td>X2</td>\n",
       "      <td>NaN</td>\n",
       "      <td>NaN</td>\n",
       "      <td>22</td>\n",
       "      <td>30510.0</td>\n",
       "      <td>0</td>\n",
       "    </tr>\n",
       "    <tr>\n",
       "      <th>2</th>\n",
       "      <td>3</td>\n",
       "      <td>C5</td>\n",
       "      <td>3732</td>\n",
       "      <td>Owned</td>\n",
       "      <td>Individual</td>\n",
       "      <td>32</td>\n",
       "      <td>32</td>\n",
       "      <td>No</td>\n",
       "      <td>NaN</td>\n",
       "      <td>1.0</td>\n",
       "      <td>1.0</td>\n",
       "      <td>19</td>\n",
       "      <td>7450.0</td>\n",
       "      <td>1</td>\n",
       "    </tr>\n",
       "    <tr>\n",
       "      <th>3</th>\n",
       "      <td>4</td>\n",
       "      <td>C24</td>\n",
       "      <td>4378</td>\n",
       "      <td>Owned</td>\n",
       "      <td>Joint</td>\n",
       "      <td>52</td>\n",
       "      <td>48</td>\n",
       "      <td>No</td>\n",
       "      <td>X1</td>\n",
       "      <td>14+</td>\n",
       "      <td>3.0</td>\n",
       "      <td>19</td>\n",
       "      <td>17780.0</td>\n",
       "      <td>0</td>\n",
       "    </tr>\n",
       "    <tr>\n",
       "      <th>4</th>\n",
       "      <td>5</td>\n",
       "      <td>C8</td>\n",
       "      <td>2190</td>\n",
       "      <td>Rented</td>\n",
       "      <td>Individual</td>\n",
       "      <td>44</td>\n",
       "      <td>44</td>\n",
       "      <td>No</td>\n",
       "      <td>X2</td>\n",
       "      <td>3.0</td>\n",
       "      <td>1.0</td>\n",
       "      <td>16</td>\n",
       "      <td>10404.0</td>\n",
       "      <td>0</td>\n",
       "    </tr>\n",
       "  </tbody>\n",
       "</table>\n",
       "</div>"
      ],
      "text/plain": [
       "   ID City_Code  Region_Code Accomodation_Type Reco_Insurance_Type  Upper_Age  \\\n",
       "0   1        C3         3213            Rented          Individual         36   \n",
       "1   2        C5         1117             Owned               Joint         75   \n",
       "2   3        C5         3732             Owned          Individual         32   \n",
       "3   4       C24         4378             Owned               Joint         52   \n",
       "4   5        C8         2190            Rented          Individual         44   \n",
       "\n",
       "   Lower_Age Is_Spouse Health Indicator Holding_Policy_Duration  \\\n",
       "0         36        No               X1                     14+   \n",
       "1         22        No               X2                     NaN   \n",
       "2         32        No              NaN                     1.0   \n",
       "3         48        No               X1                     14+   \n",
       "4         44        No               X2                     3.0   \n",
       "\n",
       "   Holding_Policy_Type  Reco_Policy_Cat  Reco_Policy_Premium  Response  \n",
       "0                  3.0               22              11628.0         0  \n",
       "1                  NaN               22              30510.0         0  \n",
       "2                  1.0               19               7450.0         1  \n",
       "3                  3.0               19              17780.0         0  \n",
       "4                  1.0               16              10404.0         0  "
      ]
     },
     "execution_count": 6,
     "metadata": {},
     "output_type": "execute_result"
    }
   ],
   "source": [
    "df.head()"
   ]
  },
  {
   "cell_type": "code",
   "execution_count": 127,
   "metadata": {},
   "outputs": [
    {
     "data": {
      "text/plain": [
       "City_Code\n",
       "C1     8973\n",
       "C10    1611\n",
       "C11    1147\n",
       "C12     868\n",
       "C13    1005\n",
       "C14     746\n",
       "C15    1186\n",
       "C16    1135\n",
       "C17    1159\n",
       "C18     797\n",
       "C19     899\n",
       "C2     7747\n",
       "C20     926\n",
       "C21     679\n",
       "C22     516\n",
       "C23     587\n",
       "C24     553\n",
       "C25     366\n",
       "C26     499\n",
       "C27     295\n",
       "C28     285\n",
       "C29     387\n",
       "C3     4889\n",
       "C30      58\n",
       "C31      15\n",
       "C32     160\n",
       "C33     286\n",
       "C34     130\n",
       "C35      56\n",
       "C36      36\n",
       "C4     3671\n",
       "C5     1364\n",
       "C6     1950\n",
       "C7     1910\n",
       "C8     1806\n",
       "C9     2185\n",
       "Name: Region_Code, dtype: int64"
      ]
     },
     "execution_count": 127,
     "metadata": {},
     "output_type": "execute_result"
    }
   ],
   "source": [
    "df.groupby('City_Code')['Region_Code'].count()"
   ]
  },
  {
   "cell_type": "code",
   "execution_count": 128,
   "metadata": {},
   "outputs": [
    {
     "data": {
      "text/plain": [
       "36"
      ]
     },
     "execution_count": 128,
     "metadata": {},
     "output_type": "execute_result"
    }
   ],
   "source": [
    "df['City_Code'].nunique()"
   ]
  },
  {
   "cell_type": "code",
   "execution_count": 130,
   "metadata": {},
   "outputs": [
    {
     "data": {
      "text/plain": [
       "array(['C3', 'C5', 'C24', 'C8', 'C9', 'C1', 'C15', 'C28', 'C27', 'C7',\n",
       "       'C20', 'C25', 'C4', 'C2', 'C34', 'C10', 'C17', 'C18', 'C16', 'C29',\n",
       "       'C33', 'C26', 'C19', 'C6', 'C12', 'C13', 'C11', 'C14', 'C22',\n",
       "       'C23', 'C21', 'C36', 'C32', 'C30', 'C35', 'C31'], dtype=object)"
      ]
     },
     "execution_count": 130,
     "metadata": {},
     "output_type": "execute_result"
    }
   ],
   "source": [
    "df['City_Code'].unique()"
   ]
  },
  {
   "cell_type": "code",
   "execution_count": 160,
   "metadata": {},
   "outputs": [
    {
     "data": {
      "text/plain": [
       "50882"
      ]
     },
     "execution_count": 160,
     "metadata": {},
     "output_type": "execute_result"
    }
   ],
   "source": [
    "df['ID'].nunique()"
   ]
  },
  {
   "cell_type": "code",
   "execution_count": 60,
   "metadata": {},
   "outputs": [],
   "source": [
    "city_code_dic = {i:int(re.split('(\\d+)',i)[1]) for i in df['City_Code'].unique()}"
   ]
  },
  {
   "cell_type": "code",
   "execution_count": 5,
   "metadata": {},
   "outputs": [
    {
     "data": {
      "text/plain": [
       "{'C3': 3,\n",
       " 'C5': 5,\n",
       " 'C24': 24,\n",
       " 'C8': 8,\n",
       " 'C9': 9,\n",
       " 'C1': 1,\n",
       " 'C15': 15,\n",
       " 'C28': 28,\n",
       " 'C27': 27,\n",
       " 'C7': 7,\n",
       " 'C20': 20,\n",
       " 'C25': 25,\n",
       " 'C4': 4,\n",
       " 'C2': 2,\n",
       " 'C34': 34,\n",
       " 'C10': 10,\n",
       " 'C17': 17,\n",
       " 'C18': 18,\n",
       " 'C16': 16,\n",
       " 'C29': 29,\n",
       " 'C33': 33,\n",
       " 'C26': 26,\n",
       " 'C19': 19,\n",
       " 'C6': 6,\n",
       " 'C12': 12,\n",
       " 'C13': 13,\n",
       " 'C11': 11,\n",
       " 'C14': 14,\n",
       " 'C22': 22,\n",
       " 'C23': 23,\n",
       " 'C21': 21,\n",
       " 'C36': 36,\n",
       " 'C32': 32,\n",
       " 'C30': 30,\n",
       " 'C35': 35,\n",
       " 'C31': 31}"
      ]
     },
     "execution_count": 5,
     "metadata": {},
     "output_type": "execute_result"
    }
   ],
   "source": [
    "city_code_dic"
   ]
  },
  {
   "cell_type": "code",
   "execution_count": 61,
   "metadata": {},
   "outputs": [],
   "source": [
    "df['City_Code'] = df['City_Code'].map(city_code_dic)"
   ]
  },
  {
   "cell_type": "code",
   "execution_count": 7,
   "metadata": {},
   "outputs": [
    {
     "data": {
      "text/plain": [
       "Index(['ID', 'City_Code', 'Region_Code', 'Accomodation_Type',\n",
       "       'Reco_Insurance_Type', 'Upper_Age', 'Lower_Age', 'Is_Spouse',\n",
       "       'Health Indicator', 'Holding_Policy_Duration', 'Holding_Policy_Type',\n",
       "       'Reco_Policy_Cat', 'Reco_Policy_Premium', 'Response'],\n",
       "      dtype='object')"
      ]
     },
     "execution_count": 7,
     "metadata": {},
     "output_type": "execute_result"
    }
   ],
   "source": [
    "df.columns"
   ]
  },
  {
   "cell_type": "code",
   "execution_count": null,
   "metadata": {},
   "outputs": [],
   "source": []
  },
  {
   "cell_type": "code",
   "execution_count": 129,
   "metadata": {},
   "outputs": [
    {
     "data": {
      "text/plain": [
       "5316"
      ]
     },
     "execution_count": 129,
     "metadata": {},
     "output_type": "execute_result"
    }
   ],
   "source": [
    "df['Region_Code'].nunique()"
   ]
  },
  {
   "cell_type": "code",
   "execution_count": 159,
   "metadata": {},
   "outputs": [
    {
     "data": {
      "text/plain": [
       "1       96\n",
       "5       75\n",
       "2       73\n",
       "6       73\n",
       "4       73\n",
       "        ..\n",
       "5548     1\n",
       "5671     1\n",
       "5639     1\n",
       "5686     1\n",
       "5524     1\n",
       "Name: Region_Code, Length: 5316, dtype: int64"
      ]
     },
     "execution_count": 159,
     "metadata": {},
     "output_type": "execute_result"
    }
   ],
   "source": [
    "df['Region_Code'].value_counts()"
   ]
  },
  {
   "cell_type": "code",
   "execution_count": 37,
   "metadata": {},
   "outputs": [
    {
     "data": {
      "text/plain": [
       "X1    13010\n",
       "X2    10332\n",
       "X3     6762\n",
       "X4     5743\n",
       "X5     1727\n",
       "X6     1280\n",
       "X7      196\n",
       "X8       78\n",
       "X9       63\n",
       "Name: Health Indicator, dtype: int64"
      ]
     },
     "execution_count": 37,
     "metadata": {},
     "output_type": "execute_result"
    }
   ],
   "source": [
    "df['Health Indicator'].value_counts()"
   ]
  },
  {
   "cell_type": "code",
   "execution_count": 62,
   "metadata": {},
   "outputs": [
    {
     "data": {
      "text/plain": [
       "Index(['ID', 'City_Code', 'Region_Code', 'Accomodation_Type',\n",
       "       'Reco_Insurance_Type', 'Upper_Age', 'Lower_Age', 'Is_Spouse',\n",
       "       'Health Indicator', 'Holding_Policy_Duration', 'Holding_Policy_Type',\n",
       "       'Reco_Policy_Cat', 'Reco_Policy_Premium', 'Response'],\n",
       "      dtype='object')"
      ]
     },
     "execution_count": 62,
     "metadata": {},
     "output_type": "execute_result"
    }
   ],
   "source": [
    "df.columns"
   ]
  },
  {
   "cell_type": "code",
   "execution_count": 63,
   "metadata": {},
   "outputs": [
    {
     "data": {
      "text/plain": [
       "1.0     4499\n",
       "14+     4335\n",
       "2.0     4260\n",
       "3.0     3586\n",
       "4.0     2771\n",
       "5.0     2362\n",
       "6.0     1894\n",
       "7.0     1645\n",
       "8.0     1316\n",
       "9.0     1114\n",
       "10.0     813\n",
       "11.0     546\n",
       "12.0     513\n",
       "13.0     511\n",
       "14.0     466\n",
       "Name: Holding_Policy_Duration, dtype: int64"
      ]
     },
     "execution_count": 63,
     "metadata": {},
     "output_type": "execute_result"
    }
   ],
   "source": [
    "df['Holding_Policy_Duration'].value_counts()"
   ]
  },
  {
   "cell_type": "code",
   "execution_count": null,
   "metadata": {},
   "outputs": [],
   "source": []
  },
  {
   "cell_type": "code",
   "execution_count": 62,
   "metadata": {},
   "outputs": [],
   "source": [
    "df['Holding_Policy_Duration'] = df['Holding_Policy_Duration'].replace('14+',15.0)"
   ]
  },
  {
   "cell_type": "code",
   "execution_count": 63,
   "metadata": {},
   "outputs": [],
   "source": [
    "df['Holding_Policy_Duration'] = df['Holding_Policy_Duration'].astype(float)"
   ]
  },
  {
   "cell_type": "code",
   "execution_count": 64,
   "metadata": {},
   "outputs": [
    {
     "data": {
      "text/plain": [
       "Index(['ID', 'City_Code', 'Region_Code', 'Accomodation_Type',\n",
       "       'Reco_Insurance_Type', 'Upper_Age', 'Lower_Age', 'Is_Spouse',\n",
       "       'Health Indicator', 'Holding_Policy_Duration', 'Holding_Policy_Type',\n",
       "       'Reco_Policy_Cat', 'Reco_Policy_Premium', 'Response'],\n",
       "      dtype='object')"
      ]
     },
     "execution_count": 64,
     "metadata": {},
     "output_type": "execute_result"
    }
   ],
   "source": [
    "df.columns"
   ]
  },
  {
   "cell_type": "code",
   "execution_count": 66,
   "metadata": {},
   "outputs": [
    {
     "data": {
      "text/plain": [
       "ID                             0\n",
       "City_Code                      0\n",
       "Region_Code                    0\n",
       "Accomodation_Type              0\n",
       "Reco_Insurance_Type            0\n",
       "Upper_Age                      0\n",
       "Lower_Age                      0\n",
       "Is_Spouse                      0\n",
       "Health Indicator           11691\n",
       "Holding_Policy_Duration    20251\n",
       "Holding_Policy_Type        20251\n",
       "Reco_Policy_Cat                0\n",
       "Reco_Policy_Premium            0\n",
       "Response                       0\n",
       "dtype: int64"
      ]
     },
     "execution_count": 66,
     "metadata": {},
     "output_type": "execute_result"
    }
   ],
   "source": [
    "df.isnull().sum()"
   ]
  },
  {
   "cell_type": "code",
   "execution_count": 72,
   "metadata": {},
   "outputs": [
    {
     "data": {
      "text/html": [
       "<div>\n",
       "<style scoped>\n",
       "    .dataframe tbody tr th:only-of-type {\n",
       "        vertical-align: middle;\n",
       "    }\n",
       "\n",
       "    .dataframe tbody tr th {\n",
       "        vertical-align: top;\n",
       "    }\n",
       "\n",
       "    .dataframe thead th {\n",
       "        text-align: right;\n",
       "    }\n",
       "</style>\n",
       "<table border=\"1\" class=\"dataframe\">\n",
       "  <thead>\n",
       "    <tr style=\"text-align: right;\">\n",
       "      <th></th>\n",
       "      <th>ID</th>\n",
       "      <th>City_Code</th>\n",
       "      <th>Region_Code</th>\n",
       "      <th>Accomodation_Type</th>\n",
       "      <th>Reco_Insurance_Type</th>\n",
       "      <th>Upper_Age</th>\n",
       "      <th>Lower_Age</th>\n",
       "      <th>Is_Spouse</th>\n",
       "      <th>Health Indicator</th>\n",
       "      <th>Holding_Policy_Duration</th>\n",
       "      <th>Holding_Policy_Type</th>\n",
       "      <th>Reco_Policy_Cat</th>\n",
       "      <th>Reco_Policy_Premium</th>\n",
       "      <th>Response</th>\n",
       "    </tr>\n",
       "  </thead>\n",
       "  <tbody>\n",
       "    <tr>\n",
       "      <th>1</th>\n",
       "      <td>2</td>\n",
       "      <td>5</td>\n",
       "      <td>1117</td>\n",
       "      <td>Owned</td>\n",
       "      <td>Joint</td>\n",
       "      <td>75</td>\n",
       "      <td>22</td>\n",
       "      <td>No</td>\n",
       "      <td>X2</td>\n",
       "      <td>NaN</td>\n",
       "      <td>NaN</td>\n",
       "      <td>22</td>\n",
       "      <td>30510.0</td>\n",
       "      <td>0</td>\n",
       "    </tr>\n",
       "    <tr>\n",
       "      <th>6</th>\n",
       "      <td>7</td>\n",
       "      <td>3</td>\n",
       "      <td>679</td>\n",
       "      <td>Owned</td>\n",
       "      <td>Individual</td>\n",
       "      <td>28</td>\n",
       "      <td>28</td>\n",
       "      <td>No</td>\n",
       "      <td>NaN</td>\n",
       "      <td>NaN</td>\n",
       "      <td>NaN</td>\n",
       "      <td>17</td>\n",
       "      <td>10640.0</td>\n",
       "      <td>0</td>\n",
       "    </tr>\n",
       "    <tr>\n",
       "      <th>10</th>\n",
       "      <td>11</td>\n",
       "      <td>28</td>\n",
       "      <td>600</td>\n",
       "      <td>Owned</td>\n",
       "      <td>Individual</td>\n",
       "      <td>21</td>\n",
       "      <td>21</td>\n",
       "      <td>No</td>\n",
       "      <td>X2</td>\n",
       "      <td>NaN</td>\n",
       "      <td>NaN</td>\n",
       "      <td>21</td>\n",
       "      <td>4068.0</td>\n",
       "      <td>1</td>\n",
       "    </tr>\n",
       "    <tr>\n",
       "      <th>13</th>\n",
       "      <td>14</td>\n",
       "      <td>5</td>\n",
       "      <td>900</td>\n",
       "      <td>Rented</td>\n",
       "      <td>Individual</td>\n",
       "      <td>20</td>\n",
       "      <td>20</td>\n",
       "      <td>No</td>\n",
       "      <td>X2</td>\n",
       "      <td>NaN</td>\n",
       "      <td>NaN</td>\n",
       "      <td>18</td>\n",
       "      <td>8364.0</td>\n",
       "      <td>0</td>\n",
       "    </tr>\n",
       "    <tr>\n",
       "      <th>15</th>\n",
       "      <td>16</td>\n",
       "      <td>3</td>\n",
       "      <td>1484</td>\n",
       "      <td>Rented</td>\n",
       "      <td>Individual</td>\n",
       "      <td>20</td>\n",
       "      <td>20</td>\n",
       "      <td>No</td>\n",
       "      <td>X3</td>\n",
       "      <td>NaN</td>\n",
       "      <td>NaN</td>\n",
       "      <td>2</td>\n",
       "      <td>4912.0</td>\n",
       "      <td>0</td>\n",
       "    </tr>\n",
       "    <tr>\n",
       "      <th>...</th>\n",
       "      <td>...</td>\n",
       "      <td>...</td>\n",
       "      <td>...</td>\n",
       "      <td>...</td>\n",
       "      <td>...</td>\n",
       "      <td>...</td>\n",
       "      <td>...</td>\n",
       "      <td>...</td>\n",
       "      <td>...</td>\n",
       "      <td>...</td>\n",
       "      <td>...</td>\n",
       "      <td>...</td>\n",
       "      <td>...</td>\n",
       "      <td>...</td>\n",
       "    </tr>\n",
       "    <tr>\n",
       "      <th>50863</th>\n",
       "      <td>50864</td>\n",
       "      <td>1</td>\n",
       "      <td>3705</td>\n",
       "      <td>Owned</td>\n",
       "      <td>Individual</td>\n",
       "      <td>75</td>\n",
       "      <td>75</td>\n",
       "      <td>No</td>\n",
       "      <td>X3</td>\n",
       "      <td>NaN</td>\n",
       "      <td>NaN</td>\n",
       "      <td>16</td>\n",
       "      <td>17850.0</td>\n",
       "      <td>1</td>\n",
       "    </tr>\n",
       "    <tr>\n",
       "      <th>50864</th>\n",
       "      <td>50865</td>\n",
       "      <td>27</td>\n",
       "      <td>3469</td>\n",
       "      <td>Owned</td>\n",
       "      <td>Individual</td>\n",
       "      <td>72</td>\n",
       "      <td>72</td>\n",
       "      <td>No</td>\n",
       "      <td>X4</td>\n",
       "      <td>NaN</td>\n",
       "      <td>NaN</td>\n",
       "      <td>2</td>\n",
       "      <td>17312.0</td>\n",
       "      <td>0</td>\n",
       "    </tr>\n",
       "    <tr>\n",
       "      <th>50865</th>\n",
       "      <td>50866</td>\n",
       "      <td>21</td>\n",
       "      <td>4915</td>\n",
       "      <td>Owned</td>\n",
       "      <td>Individual</td>\n",
       "      <td>74</td>\n",
       "      <td>74</td>\n",
       "      <td>No</td>\n",
       "      <td>NaN</td>\n",
       "      <td>NaN</td>\n",
       "      <td>NaN</td>\n",
       "      <td>14</td>\n",
       "      <td>19944.0</td>\n",
       "      <td>0</td>\n",
       "    </tr>\n",
       "    <tr>\n",
       "      <th>50867</th>\n",
       "      <td>50868</td>\n",
       "      <td>6</td>\n",
       "      <td>2040</td>\n",
       "      <td>Owned</td>\n",
       "      <td>Individual</td>\n",
       "      <td>37</td>\n",
       "      <td>37</td>\n",
       "      <td>No</td>\n",
       "      <td>X2</td>\n",
       "      <td>NaN</td>\n",
       "      <td>NaN</td>\n",
       "      <td>20</td>\n",
       "      <td>10016.0</td>\n",
       "      <td>0</td>\n",
       "    </tr>\n",
       "    <tr>\n",
       "      <th>50877</th>\n",
       "      <td>50878</td>\n",
       "      <td>4</td>\n",
       "      <td>845</td>\n",
       "      <td>Rented</td>\n",
       "      <td>Individual</td>\n",
       "      <td>22</td>\n",
       "      <td>22</td>\n",
       "      <td>No</td>\n",
       "      <td>X3</td>\n",
       "      <td>NaN</td>\n",
       "      <td>NaN</td>\n",
       "      <td>18</td>\n",
       "      <td>7704.0</td>\n",
       "      <td>0</td>\n",
       "    </tr>\n",
       "  </tbody>\n",
       "</table>\n",
       "<p>20251 rows × 14 columns</p>\n",
       "</div>"
      ],
      "text/plain": [
       "          ID  City_Code  Region_Code Accomodation_Type Reco_Insurance_Type  \\\n",
       "1          2          5         1117             Owned               Joint   \n",
       "6          7          3          679             Owned          Individual   \n",
       "10        11         28          600             Owned          Individual   \n",
       "13        14          5          900            Rented          Individual   \n",
       "15        16          3         1484            Rented          Individual   \n",
       "...      ...        ...          ...               ...                 ...   \n",
       "50863  50864          1         3705             Owned          Individual   \n",
       "50864  50865         27         3469             Owned          Individual   \n",
       "50865  50866         21         4915             Owned          Individual   \n",
       "50867  50868          6         2040             Owned          Individual   \n",
       "50877  50878          4          845            Rented          Individual   \n",
       "\n",
       "       Upper_Age  Lower_Age Is_Spouse Health Indicator  \\\n",
       "1             75         22        No               X2   \n",
       "6             28         28        No              NaN   \n",
       "10            21         21        No               X2   \n",
       "13            20         20        No               X2   \n",
       "15            20         20        No               X3   \n",
       "...          ...        ...       ...              ...   \n",
       "50863         75         75        No               X3   \n",
       "50864         72         72        No               X4   \n",
       "50865         74         74        No              NaN   \n",
       "50867         37         37        No               X2   \n",
       "50877         22         22        No               X3   \n",
       "\n",
       "       Holding_Policy_Duration  Holding_Policy_Type  Reco_Policy_Cat  \\\n",
       "1                          NaN                  NaN               22   \n",
       "6                          NaN                  NaN               17   \n",
       "10                         NaN                  NaN               21   \n",
       "13                         NaN                  NaN               18   \n",
       "15                         NaN                  NaN                2   \n",
       "...                        ...                  ...              ...   \n",
       "50863                      NaN                  NaN               16   \n",
       "50864                      NaN                  NaN                2   \n",
       "50865                      NaN                  NaN               14   \n",
       "50867                      NaN                  NaN               20   \n",
       "50877                      NaN                  NaN               18   \n",
       "\n",
       "       Reco_Policy_Premium  Response  \n",
       "1                  30510.0         0  \n",
       "6                  10640.0         0  \n",
       "10                  4068.0         1  \n",
       "13                  8364.0         0  \n",
       "15                  4912.0         0  \n",
       "...                    ...       ...  \n",
       "50863              17850.0         1  \n",
       "50864              17312.0         0  \n",
       "50865              19944.0         0  \n",
       "50867              10016.0         0  \n",
       "50877               7704.0         0  \n",
       "\n",
       "[20251 rows x 14 columns]"
      ]
     },
     "execution_count": 72,
     "metadata": {},
     "output_type": "execute_result"
    }
   ],
   "source": [
    "df[df['Holding_Policy_Type'].isnull()]"
   ]
  },
  {
   "cell_type": "code",
   "execution_count": 75,
   "metadata": {},
   "outputs": [
    {
     "data": {
      "text/plain": [
       "22    6602\n",
       "18    5553\n",
       "21    5027\n",
       "16    4084\n",
       "17    3756\n",
       "19    3708\n",
       "20    3177\n",
       "12    2168\n",
       "1     1967\n",
       "2     1917\n",
       "14    1742\n",
       "13    1684\n",
       "15    1615\n",
       "3     1059\n",
       "4     1015\n",
       "5     1007\n",
       "6      851\n",
       "7      834\n",
       "9      789\n",
       "11     781\n",
       "8      776\n",
       "10     770\n",
       "Name: Reco_Policy_Cat, dtype: int64"
      ]
     },
     "execution_count": 75,
     "metadata": {},
     "output_type": "execute_result"
    }
   ],
   "source": [
    "df['Reco_Policy_Cat'].value_counts()"
   ]
  },
  {
   "cell_type": "code",
   "execution_count": 74,
   "metadata": {},
   "outputs": [],
   "source": [
    "import matplotlib.pyplot as plt"
   ]
  },
  {
   "cell_type": "code",
   "execution_count": null,
   "metadata": {},
   "outputs": [],
   "source": [
    "plt.plot()"
   ]
  },
  {
   "cell_type": "code",
   "execution_count": null,
   "metadata": {},
   "outputs": [],
   "source": []
  },
  {
   "cell_type": "code",
   "execution_count": null,
   "metadata": {},
   "outputs": [],
   "source": []
  },
  {
   "cell_type": "code",
   "execution_count": null,
   "metadata": {},
   "outputs": [],
   "source": []
  },
  {
   "cell_type": "code",
   "execution_count": 9,
   "metadata": {},
   "outputs": [
    {
     "data": {
      "text/plain": [
       "1.0     4499\n",
       "15      4335\n",
       "2.0     4260\n",
       "3.0     3586\n",
       "4.0     2771\n",
       "5.0     2362\n",
       "6.0     1894\n",
       "7.0     1645\n",
       "8.0     1316\n",
       "9.0     1114\n",
       "10.0     813\n",
       "11.0     546\n",
       "12.0     513\n",
       "13.0     511\n",
       "14.0     466\n",
       "Name: Holding_Policy_Duration, dtype: int64"
      ]
     },
     "execution_count": 9,
     "metadata": {},
     "output_type": "execute_result"
    }
   ],
   "source": [
    "df['Holding_Policy_Duration'].value_counts()"
   ]
  },
  {
   "cell_type": "code",
   "execution_count": 17,
   "metadata": {},
   "outputs": [
    {
     "data": {
      "text/plain": [
       "Index(['ID', 'City_Code', 'Region_Code', 'Accomodation_Type',\n",
       "       'Reco_Insurance_Type', 'Upper_Age', 'Lower_Age', 'Is_Spouse',\n",
       "       'Health Indicator', 'Holding_Policy_Duration', 'Holding_Policy_Type',\n",
       "       'Reco_Policy_Cat', 'Reco_Policy_Premium', 'Response'],\n",
       "      dtype='object')"
      ]
     },
     "execution_count": 17,
     "metadata": {},
     "output_type": "execute_result"
    }
   ],
   "source": [
    "df.columns"
   ]
  },
  {
   "cell_type": "code",
   "execution_count": 76,
   "metadata": {},
   "outputs": [],
   "source": [
    "df['Health Indicator'] = df['Health Indicator'].fillna('X0')\n"
   ]
  },
  {
   "cell_type": "code",
   "execution_count": 78,
   "metadata": {},
   "outputs": [],
   "source": [
    "df['Holding_Policy_Duration'] = df['Holding_Policy_Duration'].fillna(df['Holding_Policy_Duration'].median())\n",
    "df['Holding_Policy_Type'] = df['Holding_Policy_Type'].fillna(df['Holding_Policy_Type'].median())\n"
   ]
  },
  {
   "cell_type": "code",
   "execution_count": 19,
   "metadata": {},
   "outputs": [
    {
     "data": {
      "text/plain": [
       "ID                         0\n",
       "City_Code                  0\n",
       "Region_Code                0\n",
       "Accomodation_Type          0\n",
       "Reco_Insurance_Type        0\n",
       "Upper_Age                  0\n",
       "Lower_Age                  0\n",
       "Is_Spouse                  0\n",
       "Health Indicator           0\n",
       "Holding_Policy_Duration    0\n",
       "Holding_Policy_Type        0\n",
       "Reco_Policy_Cat            0\n",
       "Reco_Policy_Premium        0\n",
       "Response                   0\n",
       "dtype: int64"
      ]
     },
     "execution_count": 19,
     "metadata": {},
     "output_type": "execute_result"
    }
   ],
   "source": [
    "df.isnull().sum()"
   ]
  },
  {
   "cell_type": "code",
   "execution_count": 11,
   "metadata": {},
   "outputs": [
    {
     "data": {
      "text/plain": [
       "Health Indicator  Response\n",
       "X0                0           8953\n",
       "                  1           2738\n",
       "X1                0           9834\n",
       "                  1           3176\n",
       "X2                0           7841\n",
       "                  1           2491\n",
       "X3                0           5163\n",
       "                  1           1599\n",
       "X4                0           4347\n",
       "                  1           1396\n",
       "X5                0           1319\n",
       "                  1            408\n",
       "X6                0            973\n",
       "                  1            307\n",
       "X7                0            134\n",
       "                  1             62\n",
       "X8                0             60\n",
       "                  1             18\n",
       "X9                0             49\n",
       "                  1             14\n",
       "Name: Response, dtype: int64"
      ]
     },
     "execution_count": 11,
     "metadata": {},
     "output_type": "execute_result"
    }
   ],
   "source": [
    "df.groupby(['Health Indicator','Response'])['Response'].count()"
   ]
  },
  {
   "cell_type": "code",
   "execution_count": 79,
   "metadata": {},
   "outputs": [],
   "source": [
    "health_ind_dic = {i:int(re.split('(\\d+)',i)[1]) for i in df['Health Indicator'].unique()}"
   ]
  },
  {
   "cell_type": "code",
   "execution_count": 80,
   "metadata": {},
   "outputs": [
    {
     "data": {
      "text/plain": [
       "{'X1': 1,\n",
       " 'X2': 2,\n",
       " 'X0': 0,\n",
       " 'X4': 4,\n",
       " 'X3': 3,\n",
       " 'X6': 6,\n",
       " 'X5': 5,\n",
       " 'X8': 8,\n",
       " 'X7': 7,\n",
       " 'X9': 9}"
      ]
     },
     "execution_count": 80,
     "metadata": {},
     "output_type": "execute_result"
    }
   ],
   "source": [
    "health_ind_dic"
   ]
  },
  {
   "cell_type": "code",
   "execution_count": 81,
   "metadata": {},
   "outputs": [],
   "source": [
    "df['Health Indicator'] = df['Health Indicator'].map(health_ind_dic)"
   ]
  },
  {
   "cell_type": "code",
   "execution_count": 23,
   "metadata": {},
   "outputs": [
    {
     "data": {
      "text/plain": [
       "0        1\n",
       "1        2\n",
       "2        0\n",
       "3        1\n",
       "4        2\n",
       "        ..\n",
       "50877    3\n",
       "50878    3\n",
       "50879    2\n",
       "50880    2\n",
       "50881    3\n",
       "Name: Health Indicator, Length: 50882, dtype: int64"
      ]
     },
     "execution_count": 23,
     "metadata": {},
     "output_type": "execute_result"
    }
   ],
   "source": [
    "df['Health Indicator']"
   ]
  },
  {
   "cell_type": "code",
   "execution_count": 16,
   "metadata": {},
   "outputs": [
    {
     "data": {
      "text/plain": [
       "ID                             0\n",
       "City_Code                      0\n",
       "Region_Code                    0\n",
       "Accomodation_Type              0\n",
       "Reco_Insurance_Type            0\n",
       "Upper_Age                      0\n",
       "Lower_Age                      0\n",
       "Is_Spouse                      0\n",
       "Health Indicator               0\n",
       "Holding_Policy_Duration    20251\n",
       "Holding_Policy_Type        20251\n",
       "Reco_Policy_Cat                0\n",
       "Reco_Policy_Premium            0\n",
       "Response                       0\n",
       "dtype: int64"
      ]
     },
     "execution_count": 16,
     "metadata": {},
     "output_type": "execute_result"
    }
   ],
   "source": [
    "df.isnull().sum()"
   ]
  },
  {
   "cell_type": "code",
   "execution_count": 7,
   "metadata": {},
   "outputs": [
    {
     "data": {
      "text/plain": [
       "<AxesSubplot:>"
      ]
     },
     "execution_count": 7,
     "metadata": {},
     "output_type": "execute_result"
    },
    {
     "data": {
      "image/png": "[encoded data removed]",
      "text/plain": [
       "<Figure size 1440x1152 with 2 Axes>"
      ]
     },
     "metadata": {
      "needs_background": "light"
     },
     "output_type": "display_data"
    }
   ],
   "source": [
    "import seaborn as sns\n",
    "import matplotlib.pyplot as plt\n",
    "plt.figure(figsize=(20,16))\n",
    "\n",
    "sns.heatmap(df.corr(), \n",
    "            annot = True,\n",
    "            cmap=\"BrBG\",\n",
    "            vmin=-1, vmax=1,\n",
    "            center= 0,\n",
    "            fmt='.2f'\n",
    "           )"
   ]
  },
  {
   "cell_type": "code",
   "execution_count": 10,
   "metadata": {},
   "outputs": [
    {
     "data": {
      "text/plain": [
       "(array([1389., 4362., 4757., 3438., 2782., 2428., 1462., 2166., 2439.,\n",
       "        2415., 2424., 2482., 2512., 1608., 2334., 2235., 2219., 1756.,\n",
       "        1754., 3920.]),\n",
       " array([18.  , 20.85, 23.7 , 26.55, 29.4 , 32.25, 35.1 , 37.95, 40.8 ,\n",
       "        43.65, 46.5 , 49.35, 52.2 , 55.05, 57.9 , 60.75, 63.6 , 66.45,\n",
       "        69.3 , 72.15, 75.  ]),\n",
       " <BarContainer object of 20 artists>)"
      ]
     },
     "execution_count": 10,
     "metadata": {},
     "output_type": "execute_result"
    },
    {
     "data": {
      "image/png": "[encoded data removed]",
      "text/plain": [
       "<Figure size 432x288 with 1 Axes>"
      ]
     },
     "metadata": {
      "needs_background": "light"
     },
     "output_type": "display_data"
    }
   ],
   "source": [
    "plt.hist(df['Upper_Age'],bins=20)"
   ]
  },
  {
   "cell_type": "code",
   "execution_count": 11,
   "metadata": {},
   "outputs": [
    {
     "data": {
      "text/plain": [
       "(array([ 848., 3079., 5342., 4697., 3421., 2802., 2407., 2152., 2202.,\n",
       "        2235., 2279., 2244., 2296., 2350., 2168., 2107., 2105., 1574.,\n",
       "        1535., 3039.]),\n",
       " array([16.  , 18.95, 21.9 , 24.85, 27.8 , 30.75, 33.7 , 36.65, 39.6 ,\n",
       "        42.55, 45.5 , 48.45, 51.4 , 54.35, 57.3 , 60.25, 63.2 , 66.15,\n",
       "        69.1 , 72.05, 75.  ]),\n",
       " <BarContainer object of 20 artists>)"
      ]
     },
     "execution_count": 11,
     "metadata": {},
     "output_type": "execute_result"
    },
    {
     "data": {
      "image/png": "[encoded data removed]",
      "text/plain": [
       "<Figure size 432x288 with 1 Axes>"
      ]
     },
     "metadata": {
      "needs_background": "light"
     },
     "output_type": "display_data"
    }
   ],
   "source": [
    "plt.hist(df['Lower_Age'],bins=20)"
   ]
  },
  {
   "cell_type": "code",
   "execution_count": 84,
   "metadata": {},
   "outputs": [
    {
     "name": "stderr",
     "output_type": "stream",
     "text": [
      "C:\\ProgramData\\Anaconda3\\lib\\site-packages\\seaborn\\_decorators.py:36: FutureWarning: Pass the following variable as a keyword arg: x. From version 0.12, the only valid positional argument will be `data`, and passing other arguments without an explicit keyword will result in an error or misinterpretation.\n",
      "  warnings.warn(\n"
     ]
    },
    {
     "data": {
      "text/plain": [
       "<seaborn.axisgrid.FacetGrid at 0x1295631b490>"
      ]
     },
     "execution_count": 84,
     "metadata": {},
     "output_type": "execute_result"
    },
    {
     "data": {
      "image/png": "[encoded data removed]",
      "text/plain": [
       "<Figure size 415.75x360 with 1 Axes>"
      ]
     },
     "metadata": {
      "needs_background": "light"
     },
     "output_type": "display_data"
    }
   ],
   "source": [
    "sns.catplot(\"Reco_Insurance_Type\", hue=\"Response\", data=df, kind=\"count\", \n",
    "            palette={1:\"blue\", 0:\"green\"})"
   ]
  },
  {
   "cell_type": "code",
   "execution_count": null,
   "metadata": {},
   "outputs": [],
   "source": [
    "df['Reco_Insurance_Type'].value_counts"
   ]
  },
  {
   "cell_type": "code",
   "execution_count": 143,
   "metadata": {},
   "outputs": [],
   "source": [
    "df1 = df.dropna()"
   ]
  },
  {
   "cell_type": "code",
   "execution_count": 83,
   "metadata": {},
   "outputs": [
    {
     "data": {
      "text/plain": [
       "ID                         0\n",
       "City_Code                  0\n",
       "Region_Code                0\n",
       "Accomodation_Type          0\n",
       "Reco_Insurance_Type        0\n",
       "Upper_Age                  0\n",
       "Lower_Age                  0\n",
       "Is_Spouse                  0\n",
       "Health Indicator           0\n",
       "Holding_Policy_Duration    0\n",
       "Holding_Policy_Type        0\n",
       "Reco_Policy_Cat            0\n",
       "Reco_Policy_Premium        0\n",
       "Response                   0\n",
       "dtype: int64"
      ]
     },
     "execution_count": 83,
     "metadata": {},
     "output_type": "execute_result"
    }
   ],
   "source": [
    "df.isnull().sum()"
   ]
  },
  {
   "cell_type": "code",
   "execution_count": 145,
   "metadata": {},
   "outputs": [
    {
     "data": {
      "text/plain": [
       "(30631, 14)"
      ]
     },
     "execution_count": 145,
     "metadata": {},
     "output_type": "execute_result"
    }
   ],
   "source": [
    "df1.shape"
   ]
  },
  {
   "cell_type": "code",
   "execution_count": 14,
   "metadata": {},
   "outputs": [
    {
     "data": {
      "text/plain": [
       "(23548, 14)"
      ]
     },
     "execution_count": 14,
     "metadata": {},
     "output_type": "execute_result"
    }
   ],
   "source": [
    "df1.shape"
   ]
  },
  {
   "cell_type": "code",
   "execution_count": 84,
   "metadata": {},
   "outputs": [
    {
     "data": {
      "text/html": [
       "<div>\n",
       "<style scoped>\n",
       "    .dataframe tbody tr th:only-of-type {\n",
       "        vertical-align: middle;\n",
       "    }\n",
       "\n",
       "    .dataframe tbody tr th {\n",
       "        vertical-align: top;\n",
       "    }\n",
       "\n",
       "    .dataframe thead th {\n",
       "        text-align: right;\n",
       "    }\n",
       "</style>\n",
       "<table border=\"1\" class=\"dataframe\">\n",
       "  <thead>\n",
       "    <tr style=\"text-align: right;\">\n",
       "      <th></th>\n",
       "      <th>Accomodation_Type</th>\n",
       "      <th>Reco_Insurance_Type</th>\n",
       "      <th>Is_Spouse</th>\n",
       "    </tr>\n",
       "  </thead>\n",
       "  <tbody>\n",
       "    <tr>\n",
       "      <th>0</th>\n",
       "      <td>Rented</td>\n",
       "      <td>Individual</td>\n",
       "      <td>No</td>\n",
       "    </tr>\n",
       "    <tr>\n",
       "      <th>1</th>\n",
       "      <td>Owned</td>\n",
       "      <td>Joint</td>\n",
       "      <td>No</td>\n",
       "    </tr>\n",
       "    <tr>\n",
       "      <th>2</th>\n",
       "      <td>Owned</td>\n",
       "      <td>Individual</td>\n",
       "      <td>No</td>\n",
       "    </tr>\n",
       "    <tr>\n",
       "      <th>3</th>\n",
       "      <td>Owned</td>\n",
       "      <td>Joint</td>\n",
       "      <td>No</td>\n",
       "    </tr>\n",
       "    <tr>\n",
       "      <th>4</th>\n",
       "      <td>Rented</td>\n",
       "      <td>Individual</td>\n",
       "      <td>No</td>\n",
       "    </tr>\n",
       "    <tr>\n",
       "      <th>...</th>\n",
       "      <td>...</td>\n",
       "      <td>...</td>\n",
       "      <td>...</td>\n",
       "    </tr>\n",
       "    <tr>\n",
       "      <th>50877</th>\n",
       "      <td>Rented</td>\n",
       "      <td>Individual</td>\n",
       "      <td>No</td>\n",
       "    </tr>\n",
       "    <tr>\n",
       "      <th>50878</th>\n",
       "      <td>Rented</td>\n",
       "      <td>Individual</td>\n",
       "      <td>No</td>\n",
       "    </tr>\n",
       "    <tr>\n",
       "      <th>50879</th>\n",
       "      <td>Rented</td>\n",
       "      <td>Individual</td>\n",
       "      <td>No</td>\n",
       "    </tr>\n",
       "    <tr>\n",
       "      <th>50880</th>\n",
       "      <td>Owned</td>\n",
       "      <td>Joint</td>\n",
       "      <td>No</td>\n",
       "    </tr>\n",
       "    <tr>\n",
       "      <th>50881</th>\n",
       "      <td>Rented</td>\n",
       "      <td>Individual</td>\n",
       "      <td>No</td>\n",
       "    </tr>\n",
       "  </tbody>\n",
       "</table>\n",
       "<p>50882 rows × 3 columns</p>\n",
       "</div>"
      ],
      "text/plain": [
       "      Accomodation_Type Reco_Insurance_Type Is_Spouse\n",
       "0                Rented          Individual        No\n",
       "1                 Owned               Joint        No\n",
       "2                 Owned          Individual        No\n",
       "3                 Owned               Joint        No\n",
       "4                Rented          Individual        No\n",
       "...                 ...                 ...       ...\n",
       "50877            Rented          Individual        No\n",
       "50878            Rented          Individual        No\n",
       "50879            Rented          Individual        No\n",
       "50880             Owned               Joint        No\n",
       "50881            Rented          Individual        No\n",
       "\n",
       "[50882 rows x 3 columns]"
      ]
     },
     "execution_count": 84,
     "metadata": {},
     "output_type": "execute_result"
    }
   ],
   "source": [
    "#Returns dataframe with only categorical columns\n",
    "def check_categorical(dataset):\n",
    "    cat_columns = dataset.select_dtypes(include=['object','category']).columns\n",
    "    return dataset[cat_columns]\n",
    "check_categorical(df)"
   ]
  },
  {
   "cell_type": "code",
   "execution_count": 85,
   "metadata": {},
   "outputs": [
    {
     "data": {
      "text/html": [
       "<div>\n",
       "<style scoped>\n",
       "    .dataframe tbody tr th:only-of-type {\n",
       "        vertical-align: middle;\n",
       "    }\n",
       "\n",
       "    .dataframe tbody tr th {\n",
       "        vertical-align: top;\n",
       "    }\n",
       "\n",
       "    .dataframe thead th {\n",
       "        text-align: right;\n",
       "    }\n",
       "</style>\n",
       "<table border=\"1\" class=\"dataframe\">\n",
       "  <thead>\n",
       "    <tr style=\"text-align: right;\">\n",
       "      <th></th>\n",
       "      <th>ID</th>\n",
       "      <th>City_Code</th>\n",
       "      <th>Region_Code</th>\n",
       "      <th>Upper_Age</th>\n",
       "      <th>Lower_Age</th>\n",
       "      <th>Health Indicator</th>\n",
       "      <th>Holding_Policy_Duration</th>\n",
       "      <th>Holding_Policy_Type</th>\n",
       "      <th>Reco_Policy_Cat</th>\n",
       "      <th>Reco_Policy_Premium</th>\n",
       "      <th>Response</th>\n",
       "    </tr>\n",
       "  </thead>\n",
       "  <tbody>\n",
       "    <tr>\n",
       "      <th>0</th>\n",
       "      <td>1</td>\n",
       "      <td>3</td>\n",
       "      <td>3213</td>\n",
       "      <td>36</td>\n",
       "      <td>36</td>\n",
       "      <td>1</td>\n",
       "      <td>15.0</td>\n",
       "      <td>3.0</td>\n",
       "      <td>22</td>\n",
       "      <td>11628.0</td>\n",
       "      <td>0</td>\n",
       "    </tr>\n",
       "    <tr>\n",
       "      <th>1</th>\n",
       "      <td>2</td>\n",
       "      <td>5</td>\n",
       "      <td>1117</td>\n",
       "      <td>75</td>\n",
       "      <td>22</td>\n",
       "      <td>2</td>\n",
       "      <td>5.0</td>\n",
       "      <td>3.0</td>\n",
       "      <td>22</td>\n",
       "      <td>30510.0</td>\n",
       "      <td>0</td>\n",
       "    </tr>\n",
       "    <tr>\n",
       "      <th>2</th>\n",
       "      <td>3</td>\n",
       "      <td>5</td>\n",
       "      <td>3732</td>\n",
       "      <td>32</td>\n",
       "      <td>32</td>\n",
       "      <td>0</td>\n",
       "      <td>1.0</td>\n",
       "      <td>1.0</td>\n",
       "      <td>19</td>\n",
       "      <td>7450.0</td>\n",
       "      <td>1</td>\n",
       "    </tr>\n",
       "    <tr>\n",
       "      <th>3</th>\n",
       "      <td>4</td>\n",
       "      <td>24</td>\n",
       "      <td>4378</td>\n",
       "      <td>52</td>\n",
       "      <td>48</td>\n",
       "      <td>1</td>\n",
       "      <td>15.0</td>\n",
       "      <td>3.0</td>\n",
       "      <td>19</td>\n",
       "      <td>17780.0</td>\n",
       "      <td>0</td>\n",
       "    </tr>\n",
       "    <tr>\n",
       "      <th>4</th>\n",
       "      <td>5</td>\n",
       "      <td>8</td>\n",
       "      <td>2190</td>\n",
       "      <td>44</td>\n",
       "      <td>44</td>\n",
       "      <td>2</td>\n",
       "      <td>3.0</td>\n",
       "      <td>1.0</td>\n",
       "      <td>16</td>\n",
       "      <td>10404.0</td>\n",
       "      <td>0</td>\n",
       "    </tr>\n",
       "    <tr>\n",
       "      <th>...</th>\n",
       "      <td>...</td>\n",
       "      <td>...</td>\n",
       "      <td>...</td>\n",
       "      <td>...</td>\n",
       "      <td>...</td>\n",
       "      <td>...</td>\n",
       "      <td>...</td>\n",
       "      <td>...</td>\n",
       "      <td>...</td>\n",
       "      <td>...</td>\n",
       "      <td>...</td>\n",
       "    </tr>\n",
       "    <tr>\n",
       "      <th>50877</th>\n",
       "      <td>50878</td>\n",
       "      <td>4</td>\n",
       "      <td>845</td>\n",
       "      <td>22</td>\n",
       "      <td>22</td>\n",
       "      <td>3</td>\n",
       "      <td>5.0</td>\n",
       "      <td>3.0</td>\n",
       "      <td>18</td>\n",
       "      <td>7704.0</td>\n",
       "      <td>0</td>\n",
       "    </tr>\n",
       "    <tr>\n",
       "      <th>50878</th>\n",
       "      <td>50879</td>\n",
       "      <td>5</td>\n",
       "      <td>4188</td>\n",
       "      <td>27</td>\n",
       "      <td>27</td>\n",
       "      <td>3</td>\n",
       "      <td>7.0</td>\n",
       "      <td>3.0</td>\n",
       "      <td>4</td>\n",
       "      <td>5408.0</td>\n",
       "      <td>0</td>\n",
       "    </tr>\n",
       "    <tr>\n",
       "      <th>50879</th>\n",
       "      <td>50880</td>\n",
       "      <td>1</td>\n",
       "      <td>442</td>\n",
       "      <td>63</td>\n",
       "      <td>63</td>\n",
       "      <td>2</td>\n",
       "      <td>15.0</td>\n",
       "      <td>1.0</td>\n",
       "      <td>12</td>\n",
       "      <td>11374.0</td>\n",
       "      <td>0</td>\n",
       "    </tr>\n",
       "    <tr>\n",
       "      <th>50880</th>\n",
       "      <td>50881</td>\n",
       "      <td>1</td>\n",
       "      <td>4</td>\n",
       "      <td>71</td>\n",
       "      <td>49</td>\n",
       "      <td>2</td>\n",
       "      <td>2.0</td>\n",
       "      <td>2.0</td>\n",
       "      <td>16</td>\n",
       "      <td>28179.2</td>\n",
       "      <td>1</td>\n",
       "    </tr>\n",
       "    <tr>\n",
       "      <th>50881</th>\n",
       "      <td>50882</td>\n",
       "      <td>3</td>\n",
       "      <td>3866</td>\n",
       "      <td>24</td>\n",
       "      <td>24</td>\n",
       "      <td>3</td>\n",
       "      <td>2.0</td>\n",
       "      <td>3.0</td>\n",
       "      <td>18</td>\n",
       "      <td>11424.0</td>\n",
       "      <td>0</td>\n",
       "    </tr>\n",
       "  </tbody>\n",
       "</table>\n",
       "<p>50882 rows × 11 columns</p>\n",
       "</div>"
      ],
      "text/plain": [
       "          ID  City_Code  Region_Code  Upper_Age  Lower_Age  Health Indicator  \\\n",
       "0          1          3         3213         36         36                 1   \n",
       "1          2          5         1117         75         22                 2   \n",
       "2          3          5         3732         32         32                 0   \n",
       "3          4         24         4378         52         48                 1   \n",
       "4          5          8         2190         44         44                 2   \n",
       "...      ...        ...          ...        ...        ...               ...   \n",
       "50877  50878          4          845         22         22                 3   \n",
       "50878  50879          5         4188         27         27                 3   \n",
       "50879  50880          1          442         63         63                 2   \n",
       "50880  50881          1            4         71         49                 2   \n",
       "50881  50882          3         3866         24         24                 3   \n",
       "\n",
       "       Holding_Policy_Duration  Holding_Policy_Type  Reco_Policy_Cat  \\\n",
       "0                         15.0                  3.0               22   \n",
       "1                          5.0                  3.0               22   \n",
       "2                          1.0                  1.0               19   \n",
       "3                         15.0                  3.0               19   \n",
       "4                          3.0                  1.0               16   \n",
       "...                        ...                  ...              ...   \n",
       "50877                      5.0                  3.0               18   \n",
       "50878                      7.0                  3.0                4   \n",
       "50879                     15.0                  1.0               12   \n",
       "50880                      2.0                  2.0               16   \n",
       "50881                      2.0                  3.0               18   \n",
       "\n",
       "       Reco_Policy_Premium  Response  \n",
       "0                  11628.0         0  \n",
       "1                  30510.0         0  \n",
       "2                   7450.0         1  \n",
       "3                  17780.0         0  \n",
       "4                  10404.0         0  \n",
       "...                    ...       ...  \n",
       "50877               7704.0         0  \n",
       "50878               5408.0         0  \n",
       "50879              11374.0         0  \n",
       "50880              28179.2         1  \n",
       "50881              11424.0         0  \n",
       "\n",
       "[50882 rows x 11 columns]"
      ]
     },
     "execution_count": 85,
     "metadata": {},
     "output_type": "execute_result"
    }
   ],
   "source": [
    "#Returns dataframe with only numerical columns\n",
    "def check_numerical(dataset):\n",
    "    num_columns = dataset.select_dtypes(include=np.number).columns\n",
    "    return dataset[num_columns]\n",
    "check_numerical(df)"
   ]
  },
  {
   "cell_type": "code",
   "execution_count": 113,
   "metadata": {},
   "outputs": [
    {
     "data": {
      "text/html": [
       "<div>\n",
       "<style scoped>\n",
       "    .dataframe tbody tr th:only-of-type {\n",
       "        vertical-align: middle;\n",
       "    }\n",
       "\n",
       "    .dataframe tbody tr th {\n",
       "        vertical-align: top;\n",
       "    }\n",
       "\n",
       "    .dataframe thead th {\n",
       "        text-align: right;\n",
       "    }\n",
       "</style>\n",
       "<table border=\"1\" class=\"dataframe\">\n",
       "  <thead>\n",
       "    <tr style=\"text-align: right;\">\n",
       "      <th></th>\n",
       "      <th>Upper_Age</th>\n",
       "      <th>Lower_Age</th>\n",
       "      <th>Reco_Insurance_Type</th>\n",
       "    </tr>\n",
       "  </thead>\n",
       "  <tbody>\n",
       "    <tr>\n",
       "      <th>0</th>\n",
       "      <td>36</td>\n",
       "      <td>36</td>\n",
       "      <td>Individual</td>\n",
       "    </tr>\n",
       "    <tr>\n",
       "      <th>2</th>\n",
       "      <td>32</td>\n",
       "      <td>32</td>\n",
       "      <td>Individual</td>\n",
       "    </tr>\n",
       "    <tr>\n",
       "      <th>3</th>\n",
       "      <td>52</td>\n",
       "      <td>48</td>\n",
       "      <td>Joint</td>\n",
       "    </tr>\n",
       "    <tr>\n",
       "      <th>4</th>\n",
       "      <td>44</td>\n",
       "      <td>44</td>\n",
       "      <td>Individual</td>\n",
       "    </tr>\n",
       "    <tr>\n",
       "      <th>5</th>\n",
       "      <td>52</td>\n",
       "      <td>52</td>\n",
       "      <td>Individual</td>\n",
       "    </tr>\n",
       "    <tr>\n",
       "      <th>7</th>\n",
       "      <td>75</td>\n",
       "      <td>73</td>\n",
       "      <td>Joint</td>\n",
       "    </tr>\n",
       "    <tr>\n",
       "      <th>8</th>\n",
       "      <td>52</td>\n",
       "      <td>43</td>\n",
       "      <td>Joint</td>\n",
       "    </tr>\n",
       "    <tr>\n",
       "      <th>9</th>\n",
       "      <td>59</td>\n",
       "      <td>26</td>\n",
       "      <td>Joint</td>\n",
       "    </tr>\n",
       "    <tr>\n",
       "      <th>11</th>\n",
       "      <td>59</td>\n",
       "      <td>47</td>\n",
       "      <td>Joint</td>\n",
       "    </tr>\n",
       "    <tr>\n",
       "      <th>12</th>\n",
       "      <td>66</td>\n",
       "      <td>66</td>\n",
       "      <td>Individual</td>\n",
       "    </tr>\n",
       "    <tr>\n",
       "      <th>14</th>\n",
       "      <td>27</td>\n",
       "      <td>27</td>\n",
       "      <td>Individual</td>\n",
       "    </tr>\n",
       "    <tr>\n",
       "      <th>16</th>\n",
       "      <td>34</td>\n",
       "      <td>34</td>\n",
       "      <td>Individual</td>\n",
       "    </tr>\n",
       "    <tr>\n",
       "      <th>18</th>\n",
       "      <td>55</td>\n",
       "      <td>55</td>\n",
       "      <td>Individual</td>\n",
       "    </tr>\n",
       "    <tr>\n",
       "      <th>20</th>\n",
       "      <td>32</td>\n",
       "      <td>32</td>\n",
       "      <td>Individual</td>\n",
       "    </tr>\n",
       "    <tr>\n",
       "      <th>24</th>\n",
       "      <td>22</td>\n",
       "      <td>22</td>\n",
       "      <td>Individual</td>\n",
       "    </tr>\n",
       "    <tr>\n",
       "      <th>29</th>\n",
       "      <td>27</td>\n",
       "      <td>27</td>\n",
       "      <td>Individual</td>\n",
       "    </tr>\n",
       "    <tr>\n",
       "      <th>30</th>\n",
       "      <td>40</td>\n",
       "      <td>34</td>\n",
       "      <td>Joint</td>\n",
       "    </tr>\n",
       "    <tr>\n",
       "      <th>33</th>\n",
       "      <td>26</td>\n",
       "      <td>21</td>\n",
       "      <td>Joint</td>\n",
       "    </tr>\n",
       "    <tr>\n",
       "      <th>36</th>\n",
       "      <td>55</td>\n",
       "      <td>18</td>\n",
       "      <td>Joint</td>\n",
       "    </tr>\n",
       "    <tr>\n",
       "      <th>38</th>\n",
       "      <td>63</td>\n",
       "      <td>63</td>\n",
       "      <td>Individual</td>\n",
       "    </tr>\n",
       "    <tr>\n",
       "      <th>39</th>\n",
       "      <td>49</td>\n",
       "      <td>47</td>\n",
       "      <td>Joint</td>\n",
       "    </tr>\n",
       "    <tr>\n",
       "      <th>40</th>\n",
       "      <td>64</td>\n",
       "      <td>64</td>\n",
       "      <td>Individual</td>\n",
       "    </tr>\n",
       "    <tr>\n",
       "      <th>41</th>\n",
       "      <td>28</td>\n",
       "      <td>28</td>\n",
       "      <td>Individual</td>\n",
       "    </tr>\n",
       "    <tr>\n",
       "      <th>42</th>\n",
       "      <td>56</td>\n",
       "      <td>56</td>\n",
       "      <td>Individual</td>\n",
       "    </tr>\n",
       "    <tr>\n",
       "      <th>43</th>\n",
       "      <td>67</td>\n",
       "      <td>67</td>\n",
       "      <td>Individual</td>\n",
       "    </tr>\n",
       "    <tr>\n",
       "      <th>45</th>\n",
       "      <td>42</td>\n",
       "      <td>42</td>\n",
       "      <td>Individual</td>\n",
       "    </tr>\n",
       "    <tr>\n",
       "      <th>47</th>\n",
       "      <td>71</td>\n",
       "      <td>71</td>\n",
       "      <td>Individual</td>\n",
       "    </tr>\n",
       "    <tr>\n",
       "      <th>48</th>\n",
       "      <td>57</td>\n",
       "      <td>55</td>\n",
       "      <td>Joint</td>\n",
       "    </tr>\n",
       "    <tr>\n",
       "      <th>49</th>\n",
       "      <td>73</td>\n",
       "      <td>68</td>\n",
       "      <td>Joint</td>\n",
       "    </tr>\n",
       "    <tr>\n",
       "      <th>53</th>\n",
       "      <td>75</td>\n",
       "      <td>75</td>\n",
       "      <td>Individual</td>\n",
       "    </tr>\n",
       "  </tbody>\n",
       "</table>\n",
       "</div>"
      ],
      "text/plain": [
       "    Upper_Age  Lower_Age Reco_Insurance_Type\n",
       "0          36         36          Individual\n",
       "2          32         32          Individual\n",
       "3          52         48               Joint\n",
       "4          44         44          Individual\n",
       "5          52         52          Individual\n",
       "7          75         73               Joint\n",
       "8          52         43               Joint\n",
       "9          59         26               Joint\n",
       "11         59         47               Joint\n",
       "12         66         66          Individual\n",
       "14         27         27          Individual\n",
       "16         34         34          Individual\n",
       "18         55         55          Individual\n",
       "20         32         32          Individual\n",
       "24         22         22          Individual\n",
       "29         27         27          Individual\n",
       "30         40         34               Joint\n",
       "33         26         21               Joint\n",
       "36         55         18               Joint\n",
       "38         63         63          Individual\n",
       "39         49         47               Joint\n",
       "40         64         64          Individual\n",
       "41         28         28          Individual\n",
       "42         56         56          Individual\n",
       "43         67         67          Individual\n",
       "45         42         42          Individual\n",
       "47         71         71          Individual\n",
       "48         57         55               Joint\n",
       "49         73         68               Joint\n",
       "53         75         75          Individual"
      ]
     },
     "execution_count": 113,
     "metadata": {},
     "output_type": "execute_result"
    }
   ],
   "source": [
    "df1[['Upper_Age','Lower_Age','Reco_Insurance_Type']].head(30)"
   ]
  },
  {
   "cell_type": "code",
   "execution_count": 28,
   "metadata": {},
   "outputs": [
    {
     "name": "stdout",
     "output_type": "stream",
     "text": [
      "ID 0.0\n",
      "City_Code 1.2122027886429676\n",
      "Region_Code 0.7980956423926486\n",
      "Upper_Age 0.217370453151133\n",
      "Lower_Age 0.330594032216263\n",
      "Health Indicator 0.8371419116828015\n",
      "Holding_Policy_Type 0.3406939510570324\n",
      "Reco_Policy_Cat -0.9282235542995848\n",
      "Reco_Policy_Premium 0.7824628894616024\n",
      "Response 1.2179355656006088\n"
     ]
    }
   ],
   "source": [
    "#Returns skew() values for each continous feature:\n",
    "def check_skewness(dataset):\n",
    "    numerical_df = check_numerical(dataset)\n",
    "    for i in numerical_df.columns:\n",
    "        print(i,numerical_df[i].skew())\n",
    "check_skewness(df)"
   ]
  },
  {
   "cell_type": "code",
   "execution_count": 122,
   "metadata": {},
   "outputs": [
    {
     "data": {
      "text/plain": [
       "1       96\n",
       "5       75\n",
       "2       73\n",
       "6       73\n",
       "4       73\n",
       "        ..\n",
       "5548     1\n",
       "5671     1\n",
       "5639     1\n",
       "5686     1\n",
       "5524     1\n",
       "Name: Region_Code, Length: 5316, dtype: int64"
      ]
     },
     "execution_count": 122,
     "metadata": {},
     "output_type": "execute_result"
    }
   ],
   "source": [
    "df['Region_Code'].value_counts()"
   ]
  },
  {
   "cell_type": "code",
   "execution_count": 124,
   "metadata": {},
   "outputs": [],
   "source": [
    "# df.groupby(['Region_code','Response'])['Response'].count()"
   ]
  },
  {
   "cell_type": "code",
   "execution_count": 125,
   "metadata": {},
   "outputs": [],
   "source": [
    "# cols =  ['Region_code']\n",
    "# for col in cols:\n",
    "#   print('Total unique'+col  +' values in Train are {}'.format(df[col].nunique()))"
   ]
  },
  {
   "cell_type": "code",
   "execution_count": 120,
   "metadata": {},
   "outputs": [],
   "source": [
    "# df.groupby(['Region_code','Response'])['Response'].count()"
   ]
  },
  {
   "cell_type": "code",
   "execution_count": null,
   "metadata": {},
   "outputs": [],
   "source": []
  },
  {
   "cell_type": "code",
   "execution_count": 126,
   "metadata": {},
   "outputs": [],
   "source": [
    "# cols = ['ID']\n",
    "# for col in cols:\n",
    "#   print('Total unique'+col  +' values in Train are {}'.format(df[col].nunique()))"
   ]
  },
  {
   "cell_type": "code",
   "execution_count": 18,
   "metadata": {},
   "outputs": [
    {
     "data": {
      "text/plain": [
       "Index(['City_Code', 'Accomodation_Type', 'Reco_Insurance_Type', 'Is_Spouse',\n",
       "       'Health Indicator', 'Holding_Policy_Duration'],\n",
       "      dtype='object')"
      ]
     },
     "execution_count": 18,
     "metadata": {},
     "output_type": "execute_result"
    }
   ],
   "source": [
    "check_categorical(df1).columns"
   ]
  },
  {
   "cell_type": "code",
   "execution_count": 29,
   "metadata": {},
   "outputs": [
    {
     "data": {
      "text/html": [
       "<div>\n",
       "<style scoped>\n",
       "    .dataframe tbody tr th:only-of-type {\n",
       "        vertical-align: middle;\n",
       "    }\n",
       "\n",
       "    .dataframe tbody tr th {\n",
       "        vertical-align: top;\n",
       "    }\n",
       "\n",
       "    .dataframe thead th {\n",
       "        text-align: right;\n",
       "    }\n",
       "</style>\n",
       "<table border=\"1\" class=\"dataframe\">\n",
       "  <thead>\n",
       "    <tr style=\"text-align: right;\">\n",
       "      <th></th>\n",
       "      <th>ID</th>\n",
       "      <th>City_Code</th>\n",
       "      <th>Region_Code</th>\n",
       "      <th>Accomodation_Type</th>\n",
       "      <th>Reco_Insurance_Type</th>\n",
       "      <th>Upper_Age</th>\n",
       "      <th>Lower_Age</th>\n",
       "      <th>Is_Spouse</th>\n",
       "      <th>Health Indicator</th>\n",
       "      <th>Holding_Policy_Duration</th>\n",
       "      <th>Holding_Policy_Type</th>\n",
       "      <th>Reco_Policy_Cat</th>\n",
       "      <th>Reco_Policy_Premium</th>\n",
       "      <th>Response</th>\n",
       "    </tr>\n",
       "  </thead>\n",
       "  <tbody>\n",
       "    <tr>\n",
       "      <th>0</th>\n",
       "      <td>1</td>\n",
       "      <td>3</td>\n",
       "      <td>3213</td>\n",
       "      <td>Rented</td>\n",
       "      <td>Individual</td>\n",
       "      <td>36</td>\n",
       "      <td>36</td>\n",
       "      <td>No</td>\n",
       "      <td>1</td>\n",
       "      <td>15</td>\n",
       "      <td>3.0</td>\n",
       "      <td>22</td>\n",
       "      <td>11628.0</td>\n",
       "      <td>0</td>\n",
       "    </tr>\n",
       "    <tr>\n",
       "      <th>1</th>\n",
       "      <td>2</td>\n",
       "      <td>5</td>\n",
       "      <td>1117</td>\n",
       "      <td>Owned</td>\n",
       "      <td>Joint</td>\n",
       "      <td>75</td>\n",
       "      <td>22</td>\n",
       "      <td>No</td>\n",
       "      <td>2</td>\n",
       "      <td>0</td>\n",
       "      <td>0.0</td>\n",
       "      <td>22</td>\n",
       "      <td>30510.0</td>\n",
       "      <td>0</td>\n",
       "    </tr>\n",
       "  </tbody>\n",
       "</table>\n",
       "</div>"
      ],
      "text/plain": [
       "   ID  City_Code  Region_Code Accomodation_Type Reco_Insurance_Type  \\\n",
       "0   1          3         3213            Rented          Individual   \n",
       "1   2          5         1117             Owned               Joint   \n",
       "\n",
       "   Upper_Age  Lower_Age Is_Spouse  Health Indicator Holding_Policy_Duration  \\\n",
       "0         36         36        No                 1                      15   \n",
       "1         75         22        No                 2                       0   \n",
       "\n",
       "   Holding_Policy_Type  Reco_Policy_Cat  Reco_Policy_Premium  Response  \n",
       "0                  3.0               22              11628.0         0  \n",
       "1                  0.0               22              30510.0         0  "
      ]
     },
     "execution_count": 29,
     "metadata": {},
     "output_type": "execute_result"
    }
   ],
   "source": [
    "df.head(2)"
   ]
  },
  {
   "cell_type": "code",
   "execution_count": 86,
   "metadata": {},
   "outputs": [],
   "source": [
    "f_df = pd.get_dummies(df,columns=['Accomodation_Type', 'Reco_Insurance_Type', 'Is_Spouse'],drop_first=True)"
   ]
  },
  {
   "cell_type": "code",
   "execution_count": null,
   "metadata": {},
   "outputs": [],
   "source": []
  },
  {
   "cell_type": "code",
   "execution_count": 33,
   "metadata": {},
   "outputs": [
    {
     "name": "stdout",
     "output_type": "stream",
     "text": [
      "<class 'pandas.core.frame.DataFrame'>\n",
      "RangeIndex: 50882 entries, 0 to 50881\n",
      "Data columns (total 14 columns):\n",
      " #   Column                     Non-Null Count  Dtype  \n",
      "---  ------                     --------------  -----  \n",
      " 0   ID                         50882 non-null  int64  \n",
      " 1   City_Code                  50882 non-null  int64  \n",
      " 2   Region_Code                50882 non-null  int64  \n",
      " 3   Upper_Age                  50882 non-null  int64  \n",
      " 4   Lower_Age                  50882 non-null  int64  \n",
      " 5   Health Indicator           50882 non-null  int64  \n",
      " 6   Holding_Policy_Duration    50882 non-null  object \n",
      " 7   Holding_Policy_Type        50882 non-null  float64\n",
      " 8   Reco_Policy_Cat            50882 non-null  int64  \n",
      " 9   Reco_Policy_Premium        50882 non-null  float64\n",
      " 10  Response                   50882 non-null  int64  \n",
      " 11  Accomodation_Type_Rented   50882 non-null  uint8  \n",
      " 12  Reco_Insurance_Type_Joint  50882 non-null  uint8  \n",
      " 13  Is_Spouse_Yes              50882 non-null  uint8  \n",
      "dtypes: float64(2), int64(8), object(1), uint8(3)\n",
      "memory usage: 4.4+ MB\n"
     ]
    }
   ],
   "source": [
    "f_df.info()"
   ]
  },
  {
   "cell_type": "code",
   "execution_count": null,
   "metadata": {},
   "outputs": [],
   "source": []
  },
  {
   "cell_type": "code",
   "execution_count": 87,
   "metadata": {},
   "outputs": [],
   "source": [
    "x1 = f_df.drop(['Response'],axis=1)\n",
    "y1 = f_df['Response']"
   ]
  },
  {
   "cell_type": "code",
   "execution_count": 35,
   "metadata": {},
   "outputs": [
    {
     "data": {
      "text/plain": [
       "(50882, 13)"
      ]
     },
     "execution_count": 35,
     "metadata": {},
     "output_type": "execute_result"
    }
   ],
   "source": [
    "x1.shape"
   ]
  },
  {
   "cell_type": "code",
   "execution_count": 88,
   "metadata": {},
   "outputs": [
    {
     "name": "stdout",
     "output_type": "stream",
     "text": [
      "[0.12819913 0.10353047 0.12892563 0.09593501 0.0962424  0.08512275\n",
      " 0.07234881 0.03345864 0.10712243 0.12623414 0.01482222 0.00362581\n",
      " 0.00443254]\n"
     ]
    },
    {
     "data": {
      "text/plain": [
       "<AxesSubplot:>"
      ]
     },
     "execution_count": 88,
     "metadata": {},
     "output_type": "execute_result"
    },
    {
     "data": {
      "image/png": "[encoded data removed]",
      "text/plain": [
       "<Figure size 432x288 with 1 Axes>"
      ]
     },
     "metadata": {
      "needs_background": "light"
     },
     "output_type": "display_data"
    }
   ],
   "source": [
    "from sklearn.ensemble import ExtraTreesClassifier\n",
    "\n",
    "model_features_importance = ExtraTreesClassifier()\n",
    "model_features_importance.fit(x1,y1)\n",
    "print(model_features_importance.feature_importances_)\n",
    "ranked_features = pd.Series(model_features_importance.feature_importances_,index=x1.columns)\n",
    "# ranked_features.nlargest(40).plot(kind='barh')\n",
    "ranked_features.plot(kind='barh')"
   ]
  },
  {
   "cell_type": "code",
   "execution_count": 89,
   "metadata": {},
   "outputs": [],
   "source": [
    "f = ranked_features.nlargest(20).index"
   ]
  },
  {
   "cell_type": "code",
   "execution_count": 90,
   "metadata": {},
   "outputs": [
    {
     "data": {
      "text/html": [
       "<div>\n",
       "<style scoped>\n",
       "    .dataframe tbody tr th:only-of-type {\n",
       "        vertical-align: middle;\n",
       "    }\n",
       "\n",
       "    .dataframe tbody tr th {\n",
       "        vertical-align: top;\n",
       "    }\n",
       "\n",
       "    .dataframe thead th {\n",
       "        text-align: right;\n",
       "    }\n",
       "</style>\n",
       "<table border=\"1\" class=\"dataframe\">\n",
       "  <thead>\n",
       "    <tr style=\"text-align: right;\">\n",
       "      <th></th>\n",
       "      <th>Region_Code</th>\n",
       "      <th>ID</th>\n",
       "      <th>Reco_Policy_Premium</th>\n",
       "      <th>Reco_Policy_Cat</th>\n",
       "      <th>City_Code</th>\n",
       "      <th>Lower_Age</th>\n",
       "      <th>Upper_Age</th>\n",
       "      <th>Health Indicator</th>\n",
       "      <th>Holding_Policy_Duration</th>\n",
       "      <th>Holding_Policy_Type</th>\n",
       "      <th>Accomodation_Type_Rented</th>\n",
       "      <th>Is_Spouse_Yes</th>\n",
       "      <th>Reco_Insurance_Type_Joint</th>\n",
       "    </tr>\n",
       "  </thead>\n",
       "  <tbody>\n",
       "    <tr>\n",
       "      <th>0</th>\n",
       "      <td>3213</td>\n",
       "      <td>1</td>\n",
       "      <td>11628.0</td>\n",
       "      <td>22</td>\n",
       "      <td>3</td>\n",
       "      <td>36</td>\n",
       "      <td>36</td>\n",
       "      <td>1</td>\n",
       "      <td>15.0</td>\n",
       "      <td>3.0</td>\n",
       "      <td>1</td>\n",
       "      <td>0</td>\n",
       "      <td>0</td>\n",
       "    </tr>\n",
       "    <tr>\n",
       "      <th>1</th>\n",
       "      <td>1117</td>\n",
       "      <td>2</td>\n",
       "      <td>30510.0</td>\n",
       "      <td>22</td>\n",
       "      <td>5</td>\n",
       "      <td>22</td>\n",
       "      <td>75</td>\n",
       "      <td>2</td>\n",
       "      <td>5.0</td>\n",
       "      <td>3.0</td>\n",
       "      <td>0</td>\n",
       "      <td>0</td>\n",
       "      <td>1</td>\n",
       "    </tr>\n",
       "    <tr>\n",
       "      <th>2</th>\n",
       "      <td>3732</td>\n",
       "      <td>3</td>\n",
       "      <td>7450.0</td>\n",
       "      <td>19</td>\n",
       "      <td>5</td>\n",
       "      <td>32</td>\n",
       "      <td>32</td>\n",
       "      <td>0</td>\n",
       "      <td>1.0</td>\n",
       "      <td>1.0</td>\n",
       "      <td>0</td>\n",
       "      <td>0</td>\n",
       "      <td>0</td>\n",
       "    </tr>\n",
       "    <tr>\n",
       "      <th>3</th>\n",
       "      <td>4378</td>\n",
       "      <td>4</td>\n",
       "      <td>17780.0</td>\n",
       "      <td>19</td>\n",
       "      <td>24</td>\n",
       "      <td>48</td>\n",
       "      <td>52</td>\n",
       "      <td>1</td>\n",
       "      <td>15.0</td>\n",
       "      <td>3.0</td>\n",
       "      <td>0</td>\n",
       "      <td>0</td>\n",
       "      <td>1</td>\n",
       "    </tr>\n",
       "    <tr>\n",
       "      <th>4</th>\n",
       "      <td>2190</td>\n",
       "      <td>5</td>\n",
       "      <td>10404.0</td>\n",
       "      <td>16</td>\n",
       "      <td>8</td>\n",
       "      <td>44</td>\n",
       "      <td>44</td>\n",
       "      <td>2</td>\n",
       "      <td>3.0</td>\n",
       "      <td>1.0</td>\n",
       "      <td>1</td>\n",
       "      <td>0</td>\n",
       "      <td>0</td>\n",
       "    </tr>\n",
       "    <tr>\n",
       "      <th>...</th>\n",
       "      <td>...</td>\n",
       "      <td>...</td>\n",
       "      <td>...</td>\n",
       "      <td>...</td>\n",
       "      <td>...</td>\n",
       "      <td>...</td>\n",
       "      <td>...</td>\n",
       "      <td>...</td>\n",
       "      <td>...</td>\n",
       "      <td>...</td>\n",
       "      <td>...</td>\n",
       "      <td>...</td>\n",
       "      <td>...</td>\n",
       "    </tr>\n",
       "    <tr>\n",
       "      <th>50877</th>\n",
       "      <td>845</td>\n",
       "      <td>50878</td>\n",
       "      <td>7704.0</td>\n",
       "      <td>18</td>\n",
       "      <td>4</td>\n",
       "      <td>22</td>\n",
       "      <td>22</td>\n",
       "      <td>3</td>\n",
       "      <td>5.0</td>\n",
       "      <td>3.0</td>\n",
       "      <td>1</td>\n",
       "      <td>0</td>\n",
       "      <td>0</td>\n",
       "    </tr>\n",
       "    <tr>\n",
       "      <th>50878</th>\n",
       "      <td>4188</td>\n",
       "      <td>50879</td>\n",
       "      <td>5408.0</td>\n",
       "      <td>4</td>\n",
       "      <td>5</td>\n",
       "      <td>27</td>\n",
       "      <td>27</td>\n",
       "      <td>3</td>\n",
       "      <td>7.0</td>\n",
       "      <td>3.0</td>\n",
       "      <td>1</td>\n",
       "      <td>0</td>\n",
       "      <td>0</td>\n",
       "    </tr>\n",
       "    <tr>\n",
       "      <th>50879</th>\n",
       "      <td>442</td>\n",
       "      <td>50880</td>\n",
       "      <td>11374.0</td>\n",
       "      <td>12</td>\n",
       "      <td>1</td>\n",
       "      <td>63</td>\n",
       "      <td>63</td>\n",
       "      <td>2</td>\n",
       "      <td>15.0</td>\n",
       "      <td>1.0</td>\n",
       "      <td>1</td>\n",
       "      <td>0</td>\n",
       "      <td>0</td>\n",
       "    </tr>\n",
       "    <tr>\n",
       "      <th>50880</th>\n",
       "      <td>4</td>\n",
       "      <td>50881</td>\n",
       "      <td>28179.2</td>\n",
       "      <td>16</td>\n",
       "      <td>1</td>\n",
       "      <td>49</td>\n",
       "      <td>71</td>\n",
       "      <td>2</td>\n",
       "      <td>2.0</td>\n",
       "      <td>2.0</td>\n",
       "      <td>0</td>\n",
       "      <td>0</td>\n",
       "      <td>1</td>\n",
       "    </tr>\n",
       "    <tr>\n",
       "      <th>50881</th>\n",
       "      <td>3866</td>\n",
       "      <td>50882</td>\n",
       "      <td>11424.0</td>\n",
       "      <td>18</td>\n",
       "      <td>3</td>\n",
       "      <td>24</td>\n",
       "      <td>24</td>\n",
       "      <td>3</td>\n",
       "      <td>2.0</td>\n",
       "      <td>3.0</td>\n",
       "      <td>1</td>\n",
       "      <td>0</td>\n",
       "      <td>0</td>\n",
       "    </tr>\n",
       "  </tbody>\n",
       "</table>\n",
       "<p>50882 rows × 13 columns</p>\n",
       "</div>"
      ],
      "text/plain": [
       "       Region_Code     ID  Reco_Policy_Premium  Reco_Policy_Cat  City_Code  \\\n",
       "0             3213      1              11628.0               22          3   \n",
       "1             1117      2              30510.0               22          5   \n",
       "2             3732      3               7450.0               19          5   \n",
       "3             4378      4              17780.0               19         24   \n",
       "4             2190      5              10404.0               16          8   \n",
       "...            ...    ...                  ...              ...        ...   \n",
       "50877          845  50878               7704.0               18          4   \n",
       "50878         4188  50879               5408.0                4          5   \n",
       "50879          442  50880              11374.0               12          1   \n",
       "50880            4  50881              28179.2               16          1   \n",
       "50881         3866  50882              11424.0               18          3   \n",
       "\n",
       "       Lower_Age  Upper_Age  Health Indicator  Holding_Policy_Duration  \\\n",
       "0             36         36                 1                     15.0   \n",
       "1             22         75                 2                      5.0   \n",
       "2             32         32                 0                      1.0   \n",
       "3             48         52                 1                     15.0   \n",
       "4             44         44                 2                      3.0   \n",
       "...          ...        ...               ...                      ...   \n",
       "50877         22         22                 3                      5.0   \n",
       "50878         27         27                 3                      7.0   \n",
       "50879         63         63                 2                     15.0   \n",
       "50880         49         71                 2                      2.0   \n",
       "50881         24         24                 3                      2.0   \n",
       "\n",
       "       Holding_Policy_Type  Accomodation_Type_Rented  Is_Spouse_Yes  \\\n",
       "0                      3.0                         1              0   \n",
       "1                      3.0                         0              0   \n",
       "2                      1.0                         0              0   \n",
       "3                      3.0                         0              0   \n",
       "4                      1.0                         1              0   \n",
       "...                    ...                       ...            ...   \n",
       "50877                  3.0                         1              0   \n",
       "50878                  3.0                         1              0   \n",
       "50879                  1.0                         1              0   \n",
       "50880                  2.0                         0              0   \n",
       "50881                  3.0                         1              0   \n",
       "\n",
       "       Reco_Insurance_Type_Joint  \n",
       "0                              0  \n",
       "1                              1  \n",
       "2                              0  \n",
       "3                              1  \n",
       "4                              0  \n",
       "...                          ...  \n",
       "50877                          0  \n",
       "50878                          0  \n",
       "50879                          0  \n",
       "50880                          1  \n",
       "50881                          0  \n",
       "\n",
       "[50882 rows x 13 columns]"
      ]
     },
     "execution_count": 90,
     "metadata": {},
     "output_type": "execute_result"
    }
   ],
   "source": [
    "df2 = f_df[f]\n",
    "df2"
   ]
  },
  {
   "cell_type": "code",
   "execution_count": null,
   "metadata": {},
   "outputs": [],
   "source": []
  },
  {
   "cell_type": "code",
   "execution_count": 91,
   "metadata": {},
   "outputs": [],
   "source": [
    "df2 = f_df[f]\n",
    "X = df2\n",
    "y = f_df['Response']"
   ]
  },
  {
   "cell_type": "code",
   "execution_count": 52,
   "metadata": {},
   "outputs": [
    {
     "data": {
      "text/plain": [
       "Index(['ID', 'Region_Code', 'Reco_Policy_Premium', 'Reco_Policy_Cat',\n",
       "       'City_Code', 'Lower_Age', 'Upper_Age', 'Health Indicator',\n",
       "       'Holding_Policy_Duration', 'Holding_Policy_Type',\n",
       "       'Accomodation_Type_Rented', 'Is_Spouse_Yes',\n",
       "       'Reco_Insurance_Type_Joint'],\n",
       "      dtype='object')"
      ]
     },
     "execution_count": 52,
     "metadata": {},
     "output_type": "execute_result"
    }
   ],
   "source": [
    "X.columns"
   ]
  },
  {
   "cell_type": "code",
   "execution_count": 92,
   "metadata": {},
   "outputs": [
    {
     "name": "stderr",
     "output_type": "stream",
     "text": [
      "<ipython-input-92-2758870318f8>:1: SettingWithCopyWarning: \n",
      "A value is trying to be set on a copy of a slice from a DataFrame.\n",
      "Try using .loc[row_indexer,col_indexer] = value instead\n",
      "\n",
      "See the caveats in the documentation: https://pandas.pydata.org/pandas-docs/stable/user_guide/indexing.html#returning-a-view-versus-a-copy\n",
      "  X['Holding_Policy_Duration']= X['Holding_Policy_Duration'].astype(float)\n"
     ]
    }
   ],
   "source": [
    "X['Holding_Policy_Duration']= X['Holding_Policy_Duration'].astype(float)"
   ]
  },
  {
   "cell_type": "code",
   "execution_count": 93,
   "metadata": {},
   "outputs": [
    {
     "name": "stdout",
     "output_type": "stream",
     "text": [
      "score: 0.6228458829106711\n"
     ]
    }
   ],
   "source": [
    "from sklearn.model_selection import train_test_split as tts\n",
    "from sklearn.metrics import roc_auc_score\n",
    "\n",
    "X_train, X_test,y_train, y_test = tts(X,y, test_size=0.10, random_state=43)\n",
    "\n",
    "from sklearn.ensemble import RandomForestClassifier\n",
    "from sklearn.metrics import f1_score\n",
    "\n",
    "forest_clf = RandomForestClassifier()\n",
    "forest_clf.fit(X_train, y_train)\n",
    "forest_pred = forest_clf.predict(X_test)\n",
    "score = roc_auc_score(y_test, forest_clf.predict_proba(X_test)[:, 1])\n",
    "print(\"score:\",score)"
   ]
  },
  {
   "cell_type": "code",
   "execution_count": 54,
   "metadata": {},
   "outputs": [
    {
     "name": "stdout",
     "output_type": "stream",
     "text": [
      "score: 0.6273387185538339\n"
     ]
    }
   ],
   "source": [
    "from sklearn.model_selection import train_test_split as tts\n",
    "from sklearn.metrics import roc_auc_score\n",
    "\n",
    "X_train, X_test,y_train, y_test = tts(X,y, test_size=0.10, random_state=43)\n",
    "\n",
    "from sklearn.ensemble import RandomForestClassifier\n",
    "from sklearn.metrics import f1_score\n",
    "\n",
    "forest_clf = RandomForestClassifier()\n",
    "forest_clf.fit(X_train, y_train)\n",
    "forest_pred = forest_clf.predict(X_test)\n",
    "score = roc_auc_score(y_test, forest_clf.predict_proba(X_test)[:, 1])\n",
    "print(\"score:\",score)"
   ]
  },
  {
   "cell_type": "code",
   "execution_count": 157,
   "metadata": {},
   "outputs": [
    {
     "name": "stdout",
     "output_type": "stream",
     "text": [
      "score: 0.6131861490329921\n"
     ]
    }
   ],
   "source": [
    "from sklearn.model_selection import train_test_split as tts\n",
    "from sklearn.metrics import roc_auc_score\n",
    "\n",
    "X_train, X_test,y_train, y_test = tts(X,y, test_size=0.10, random_state=43)\n",
    "\n",
    "from sklearn.ensemble import RandomForestClassifier\n",
    "from sklearn.metrics import f1_score\n",
    "\n",
    "forest_clf = RandomForestClassifier()\n",
    "forest_clf.fit(X_train, y_train)\n",
    "forest_pred = forest_clf.predict(X_test)\n",
    "score = roc_auc_score(y_test, forest_clf.predict_proba(X_test)[:, 1])\n",
    "print(\"score:\",score)"
   ]
  },
  {
   "cell_type": "code",
   "execution_count": 94,
   "metadata": {},
   "outputs": [
    {
     "name": "stdout",
     "output_type": "stream",
     "text": [
      "1\n",
      "Training until validation scores don't improve for 100 rounds\n",
      "[50]\tvalid_0's auc: 0.645258\tvalid_0's binary_logloss: 0.559436\n",
      "[100]\tvalid_0's auc: 0.652639\tvalid_0's binary_logloss: 0.55489\n",
      "[150]\tvalid_0's auc: 0.652652\tvalid_0's binary_logloss: 0.553786\n",
      "[200]\tvalid_0's auc: 0.654568\tvalid_0's binary_logloss: 0.55262\n",
      "[250]\tvalid_0's auc: 0.656153\tvalid_0's binary_logloss: 0.551523\n",
      "[300]\tvalid_0's auc: 0.658403\tvalid_0's binary_logloss: 0.550559\n",
      "[350]\tvalid_0's auc: 0.659203\tvalid_0's binary_logloss: 0.549916\n",
      "[400]\tvalid_0's auc: 0.660607\tvalid_0's binary_logloss: 0.549205\n",
      "[450]\tvalid_0's auc: 0.661543\tvalid_0's binary_logloss: 0.548662\n",
      "[500]\tvalid_0's auc: 0.66227\tvalid_0's binary_logloss: 0.548101\n",
      "[550]\tvalid_0's auc: 0.661959\tvalid_0's binary_logloss: 0.547743\n",
      "Did not meet early stopping. Best iteration is:\n",
      "[528]\tvalid_0's auc: 0.662557\tvalid_0's binary_logloss: 0.547838\n",
      "3\n",
      "Training until validation scores don't improve for 100 rounds\n",
      "[50]\tvalid_0's auc: 0.645258\tvalid_0's binary_logloss: 0.559436\n",
      "[100]\tvalid_0's auc: 0.652639\tvalid_0's binary_logloss: 0.55489\n",
      "[150]\tvalid_0's auc: 0.652652\tvalid_0's binary_logloss: 0.553786\n",
      "[200]\tvalid_0's auc: 0.654568\tvalid_0's binary_logloss: 0.55262\n",
      "[250]\tvalid_0's auc: 0.656153\tvalid_0's binary_logloss: 0.551523\n",
      "[300]\tvalid_0's auc: 0.658403\tvalid_0's binary_logloss: 0.550559\n",
      "[350]\tvalid_0's auc: 0.659203\tvalid_0's binary_logloss: 0.549916\n",
      "[400]\tvalid_0's auc: 0.660607\tvalid_0's binary_logloss: 0.549205\n",
      "[450]\tvalid_0's auc: 0.661543\tvalid_0's binary_logloss: 0.548662\n",
      "[500]\tvalid_0's auc: 0.66227\tvalid_0's binary_logloss: 0.548101\n",
      "[550]\tvalid_0's auc: 0.661959\tvalid_0's binary_logloss: 0.547743\n",
      "Did not meet early stopping. Best iteration is:\n",
      "[528]\tvalid_0's auc: 0.662557\tvalid_0's binary_logloss: 0.547838\n",
      "10\n",
      "Training until validation scores don't improve for 100 rounds\n",
      "[50]\tvalid_0's auc: 0.645258\tvalid_0's binary_logloss: 0.559436\n",
      "[100]\tvalid_0's auc: 0.652639\tvalid_0's binary_logloss: 0.55489\n",
      "[150]\tvalid_0's auc: 0.652652\tvalid_0's binary_logloss: 0.553786\n",
      "[200]\tvalid_0's auc: 0.654568\tvalid_0's binary_logloss: 0.55262\n",
      "[250]\tvalid_0's auc: 0.656153\tvalid_0's binary_logloss: 0.551523\n",
      "[300]\tvalid_0's auc: 0.658403\tvalid_0's binary_logloss: 0.550559\n",
      "[350]\tvalid_0's auc: 0.659203\tvalid_0's binary_logloss: 0.549916\n",
      "[400]\tvalid_0's auc: 0.660607\tvalid_0's binary_logloss: 0.549205\n",
      "[450]\tvalid_0's auc: 0.661543\tvalid_0's binary_logloss: 0.548662\n",
      "[500]\tvalid_0's auc: 0.66227\tvalid_0's binary_logloss: 0.548101\n",
      "[550]\tvalid_0's auc: 0.661959\tvalid_0's binary_logloss: 0.547743\n",
      "Did not meet early stopping. Best iteration is:\n",
      "[528]\tvalid_0's auc: 0.662557\tvalid_0's binary_logloss: 0.547838\n",
      "15\n",
      "Training until validation scores don't improve for 100 rounds\n",
      "[50]\tvalid_0's auc: 0.645258\tvalid_0's binary_logloss: 0.559436\n",
      "[100]\tvalid_0's auc: 0.652639\tvalid_0's binary_logloss: 0.55489\n",
      "[150]\tvalid_0's auc: 0.652652\tvalid_0's binary_logloss: 0.553786\n",
      "[200]\tvalid_0's auc: 0.654568\tvalid_0's binary_logloss: 0.55262\n",
      "[250]\tvalid_0's auc: 0.656153\tvalid_0's binary_logloss: 0.551523\n",
      "[300]\tvalid_0's auc: 0.658403\tvalid_0's binary_logloss: 0.550559\n",
      "[350]\tvalid_0's auc: 0.659203\tvalid_0's binary_logloss: 0.549916\n",
      "[400]\tvalid_0's auc: 0.660607\tvalid_0's binary_logloss: 0.549205\n",
      "[450]\tvalid_0's auc: 0.661543\tvalid_0's binary_logloss: 0.548662\n",
      "[500]\tvalid_0's auc: 0.66227\tvalid_0's binary_logloss: 0.548101\n",
      "[550]\tvalid_0's auc: 0.661959\tvalid_0's binary_logloss: 0.547743\n",
      "Did not meet early stopping. Best iteration is:\n",
      "[528]\tvalid_0's auc: 0.662557\tvalid_0's binary_logloss: 0.547838\n",
      "20\n",
      "Training until validation scores don't improve for 100 rounds\n",
      "[50]\tvalid_0's auc: 0.645258\tvalid_0's binary_logloss: 0.559436\n",
      "[100]\tvalid_0's auc: 0.652639\tvalid_0's binary_logloss: 0.55489\n",
      "[150]\tvalid_0's auc: 0.652652\tvalid_0's binary_logloss: 0.553786\n",
      "[200]\tvalid_0's auc: 0.654568\tvalid_0's binary_logloss: 0.55262\n",
      "[250]\tvalid_0's auc: 0.656153\tvalid_0's binary_logloss: 0.551523\n",
      "[300]\tvalid_0's auc: 0.658403\tvalid_0's binary_logloss: 0.550559\n",
      "[350]\tvalid_0's auc: 0.659203\tvalid_0's binary_logloss: 0.549916\n",
      "[400]\tvalid_0's auc: 0.660607\tvalid_0's binary_logloss: 0.549205\n",
      "[450]\tvalid_0's auc: 0.661543\tvalid_0's binary_logloss: 0.548662\n",
      "[500]\tvalid_0's auc: 0.66227\tvalid_0's binary_logloss: 0.548101\n",
      "[550]\tvalid_0's auc: 0.661959\tvalid_0's binary_logloss: 0.547743\n",
      "Did not meet early stopping. Best iteration is:\n",
      "[528]\tvalid_0's auc: 0.662557\tvalid_0's binary_logloss: 0.547838\n",
      "33\n",
      "Training until validation scores don't improve for 100 rounds\n",
      "[50]\tvalid_0's auc: 0.645258\tvalid_0's binary_logloss: 0.559436\n",
      "[100]\tvalid_0's auc: 0.652639\tvalid_0's binary_logloss: 0.55489\n",
      "[150]\tvalid_0's auc: 0.652652\tvalid_0's binary_logloss: 0.553786\n",
      "[200]\tvalid_0's auc: 0.654568\tvalid_0's binary_logloss: 0.55262\n",
      "[250]\tvalid_0's auc: 0.656153\tvalid_0's binary_logloss: 0.551523\n",
      "[300]\tvalid_0's auc: 0.658403\tvalid_0's binary_logloss: 0.550559\n",
      "[350]\tvalid_0's auc: 0.659203\tvalid_0's binary_logloss: 0.549916\n",
      "[400]\tvalid_0's auc: 0.660607\tvalid_0's binary_logloss: 0.549205\n",
      "[450]\tvalid_0's auc: 0.661543\tvalid_0's binary_logloss: 0.548662\n",
      "[500]\tvalid_0's auc: 0.66227\tvalid_0's binary_logloss: 0.548101\n",
      "[550]\tvalid_0's auc: 0.661959\tvalid_0's binary_logloss: 0.547743\n",
      "Did not meet early stopping. Best iteration is:\n",
      "[528]\tvalid_0's auc: 0.662557\tvalid_0's binary_logloss: 0.547838\n",
      "333\n",
      "Training until validation scores don't improve for 100 rounds\n",
      "[50]\tvalid_0's auc: 0.645258\tvalid_0's binary_logloss: 0.559436\n",
      "[100]\tvalid_0's auc: 0.652639\tvalid_0's binary_logloss: 0.55489\n",
      "[150]\tvalid_0's auc: 0.652652\tvalid_0's binary_logloss: 0.553786\n",
      "[200]\tvalid_0's auc: 0.654568\tvalid_0's binary_logloss: 0.55262\n",
      "[250]\tvalid_0's auc: 0.656153\tvalid_0's binary_logloss: 0.551523\n",
      "[300]\tvalid_0's auc: 0.658403\tvalid_0's binary_logloss: 0.550559\n",
      "[350]\tvalid_0's auc: 0.659203\tvalid_0's binary_logloss: 0.549916\n",
      "[400]\tvalid_0's auc: 0.660607\tvalid_0's binary_logloss: 0.549205\n",
      "[450]\tvalid_0's auc: 0.661543\tvalid_0's binary_logloss: 0.548662\n",
      "[500]\tvalid_0's auc: 0.66227\tvalid_0's binary_logloss: 0.548101\n",
      "[550]\tvalid_0's auc: 0.661959\tvalid_0's binary_logloss: 0.547743\n",
      "Did not meet early stopping. Best iteration is:\n",
      "[528]\tvalid_0's auc: 0.662557\tvalid_0's binary_logloss: 0.547838\n",
      "1997\n",
      "Training until validation scores don't improve for 100 rounds\n",
      "[50]\tvalid_0's auc: 0.645258\tvalid_0's binary_logloss: 0.559436\n",
      "[100]\tvalid_0's auc: 0.652639\tvalid_0's binary_logloss: 0.55489\n",
      "[150]\tvalid_0's auc: 0.652652\tvalid_0's binary_logloss: 0.553786\n",
      "[200]\tvalid_0's auc: 0.654568\tvalid_0's binary_logloss: 0.55262\n",
      "[250]\tvalid_0's auc: 0.656153\tvalid_0's binary_logloss: 0.551523\n",
      "[300]\tvalid_0's auc: 0.658403\tvalid_0's binary_logloss: 0.550559\n",
      "[350]\tvalid_0's auc: 0.659203\tvalid_0's binary_logloss: 0.549916\n",
      "[400]\tvalid_0's auc: 0.660607\tvalid_0's binary_logloss: 0.549205\n",
      "[450]\tvalid_0's auc: 0.661543\tvalid_0's binary_logloss: 0.548662\n",
      "[500]\tvalid_0's auc: 0.66227\tvalid_0's binary_logloss: 0.548101\n",
      "[550]\tvalid_0's auc: 0.661959\tvalid_0's binary_logloss: 0.547743\n",
      "Did not meet early stopping. Best iteration is:\n",
      "[528]\tvalid_0's auc: 0.662557\tvalid_0's binary_logloss: 0.547838\n",
      "2020\n",
      "Training until validation scores don't improve for 100 rounds\n",
      "[50]\tvalid_0's auc: 0.645258\tvalid_0's binary_logloss: 0.559436\n",
      "[100]\tvalid_0's auc: 0.652639\tvalid_0's binary_logloss: 0.55489\n",
      "[150]\tvalid_0's auc: 0.652652\tvalid_0's binary_logloss: 0.553786\n",
      "[200]\tvalid_0's auc: 0.654568\tvalid_0's binary_logloss: 0.55262\n",
      "[250]\tvalid_0's auc: 0.656153\tvalid_0's binary_logloss: 0.551523\n",
      "[300]\tvalid_0's auc: 0.658403\tvalid_0's binary_logloss: 0.550559\n",
      "[350]\tvalid_0's auc: 0.659203\tvalid_0's binary_logloss: 0.549916\n",
      "[400]\tvalid_0's auc: 0.660607\tvalid_0's binary_logloss: 0.549205\n",
      "[450]\tvalid_0's auc: 0.661543\tvalid_0's binary_logloss: 0.548662\n",
      "[500]\tvalid_0's auc: 0.66227\tvalid_0's binary_logloss: 0.548101\n",
      "[550]\tvalid_0's auc: 0.661959\tvalid_0's binary_logloss: 0.547743\n",
      "Did not meet early stopping. Best iteration is:\n",
      "[528]\tvalid_0's auc: 0.662557\tvalid_0's binary_logloss: 0.547838\n",
      "2021\n",
      "Training until validation scores don't improve for 100 rounds\n",
      "[50]\tvalid_0's auc: 0.645258\tvalid_0's binary_logloss: 0.559436\n",
      "[100]\tvalid_0's auc: 0.652639\tvalid_0's binary_logloss: 0.55489\n"
     ]
    },
    {
     "name": "stdout",
     "output_type": "stream",
     "text": [
      "[150]\tvalid_0's auc: 0.652652\tvalid_0's binary_logloss: 0.553786\n",
      "[200]\tvalid_0's auc: 0.654568\tvalid_0's binary_logloss: 0.55262\n",
      "[250]\tvalid_0's auc: 0.656153\tvalid_0's binary_logloss: 0.551523\n",
      "[300]\tvalid_0's auc: 0.658403\tvalid_0's binary_logloss: 0.550559\n",
      "[350]\tvalid_0's auc: 0.659203\tvalid_0's binary_logloss: 0.549916\n",
      "[400]\tvalid_0's auc: 0.660607\tvalid_0's binary_logloss: 0.549205\n",
      "[450]\tvalid_0's auc: 0.661543\tvalid_0's binary_logloss: 0.548662\n",
      "[500]\tvalid_0's auc: 0.66227\tvalid_0's binary_logloss: 0.548101\n",
      "[550]\tvalid_0's auc: 0.661959\tvalid_0's binary_logloss: 0.547743\n",
      "Did not meet early stopping. Best iteration is:\n",
      "[528]\tvalid_0's auc: 0.662557\tvalid_0's binary_logloss: 0.547838\n"
     ]
    }
   ],
   "source": [
    "from lightgbm import LGBMClassifier\n",
    "for seed_val in [1,3,10,15,20,33,333,1997,2020,2021]:\n",
    "    print(seed_val)\n",
    "    clf = LGBMClassifier(n_estimators=550,\n",
    "                     learning_rate=0.03,\n",
    "                     min_child_samples=20,\n",
    "                     random_state=seed_val,\n",
    "                     colsample_bytree=1,\n",
    "                     reg_alpha=2,\n",
    "                     reg_lambda=2,class_weight={0:0.35,1:0.65})\n",
    "    clf.fit(X_train, y_train, eval_set=[(X_test, y_test)], verbose=50,\n",
    "        eval_metric = 'auc', early_stopping_rounds = 100)\n",
    "    preds = clf.predict_proba(X_test)[:, 1]"
   ]
  },
  {
   "cell_type": "code",
   "execution_count": 55,
   "metadata": {},
   "outputs": [
    {
     "name": "stdout",
     "output_type": "stream",
     "text": [
      "1\n",
      "Training until validation scores don't improve for 100 rounds\n",
      "[50]\tvalid_0's auc: 0.648075\tvalid_0's binary_logloss: 0.559044\n",
      "[100]\tvalid_0's auc: 0.655679\tvalid_0's binary_logloss: 0.554139\n",
      "[150]\tvalid_0's auc: 0.656105\tvalid_0's binary_logloss: 0.552718\n",
      "[200]\tvalid_0's auc: 0.656802\tvalid_0's binary_logloss: 0.551703\n",
      "[250]\tvalid_0's auc: 0.657638\tvalid_0's binary_logloss: 0.551043\n",
      "[300]\tvalid_0's auc: 0.65895\tvalid_0's binary_logloss: 0.550253\n",
      "[350]\tvalid_0's auc: 0.659651\tvalid_0's binary_logloss: 0.549651\n",
      "[400]\tvalid_0's auc: 0.659986\tvalid_0's binary_logloss: 0.549122\n",
      "[450]\tvalid_0's auc: 0.660283\tvalid_0's binary_logloss: 0.548718\n",
      "[500]\tvalid_0's auc: 0.661827\tvalid_0's binary_logloss: 0.547769\n",
      "[550]\tvalid_0's auc: 0.663667\tvalid_0's binary_logloss: 0.546729\n",
      "Did not meet early stopping. Best iteration is:\n",
      "[550]\tvalid_0's auc: 0.663667\tvalid_0's binary_logloss: 0.546729\n",
      "3\n",
      "Training until validation scores don't improve for 100 rounds\n",
      "[50]\tvalid_0's auc: 0.648075\tvalid_0's binary_logloss: 0.559044\n",
      "[100]\tvalid_0's auc: 0.655679\tvalid_0's binary_logloss: 0.554139\n",
      "[150]\tvalid_0's auc: 0.656105\tvalid_0's binary_logloss: 0.552718\n",
      "[200]\tvalid_0's auc: 0.656802\tvalid_0's binary_logloss: 0.551703\n",
      "[250]\tvalid_0's auc: 0.657638\tvalid_0's binary_logloss: 0.551043\n",
      "[300]\tvalid_0's auc: 0.65895\tvalid_0's binary_logloss: 0.550253\n",
      "[350]\tvalid_0's auc: 0.659651\tvalid_0's binary_logloss: 0.549651\n",
      "[400]\tvalid_0's auc: 0.659986\tvalid_0's binary_logloss: 0.549122\n",
      "[450]\tvalid_0's auc: 0.660283\tvalid_0's binary_logloss: 0.548718\n",
      "[500]\tvalid_0's auc: 0.661827\tvalid_0's binary_logloss: 0.547769\n",
      "[550]\tvalid_0's auc: 0.663667\tvalid_0's binary_logloss: 0.546729\n",
      "Did not meet early stopping. Best iteration is:\n",
      "[550]\tvalid_0's auc: 0.663667\tvalid_0's binary_logloss: 0.546729\n",
      "10\n",
      "Training until validation scores don't improve for 100 rounds\n",
      "[50]\tvalid_0's auc: 0.648075\tvalid_0's binary_logloss: 0.559044\n",
      "[100]\tvalid_0's auc: 0.655679\tvalid_0's binary_logloss: 0.554139\n",
      "[150]\tvalid_0's auc: 0.656105\tvalid_0's binary_logloss: 0.552718\n",
      "[200]\tvalid_0's auc: 0.656802\tvalid_0's binary_logloss: 0.551703\n",
      "[250]\tvalid_0's auc: 0.657638\tvalid_0's binary_logloss: 0.551043\n",
      "[300]\tvalid_0's auc: 0.65895\tvalid_0's binary_logloss: 0.550253\n",
      "[350]\tvalid_0's auc: 0.659651\tvalid_0's binary_logloss: 0.549651\n",
      "[400]\tvalid_0's auc: 0.659986\tvalid_0's binary_logloss: 0.549122\n",
      "[450]\tvalid_0's auc: 0.660283\tvalid_0's binary_logloss: 0.548718\n",
      "[500]\tvalid_0's auc: 0.661827\tvalid_0's binary_logloss: 0.547769\n",
      "[550]\tvalid_0's auc: 0.663667\tvalid_0's binary_logloss: 0.546729\n",
      "Did not meet early stopping. Best iteration is:\n",
      "[550]\tvalid_0's auc: 0.663667\tvalid_0's binary_logloss: 0.546729\n",
      "15\n",
      "Training until validation scores don't improve for 100 rounds\n",
      "[50]\tvalid_0's auc: 0.648075\tvalid_0's binary_logloss: 0.559044\n",
      "[100]\tvalid_0's auc: 0.655679\tvalid_0's binary_logloss: 0.554139\n",
      "[150]\tvalid_0's auc: 0.656105\tvalid_0's binary_logloss: 0.552718\n",
      "[200]\tvalid_0's auc: 0.656802\tvalid_0's binary_logloss: 0.551703\n",
      "[250]\tvalid_0's auc: 0.657638\tvalid_0's binary_logloss: 0.551043\n",
      "[300]\tvalid_0's auc: 0.65895\tvalid_0's binary_logloss: 0.550253\n",
      "[350]\tvalid_0's auc: 0.659651\tvalid_0's binary_logloss: 0.549651\n",
      "[400]\tvalid_0's auc: 0.659986\tvalid_0's binary_logloss: 0.549122\n",
      "[450]\tvalid_0's auc: 0.660283\tvalid_0's binary_logloss: 0.548718\n",
      "[500]\tvalid_0's auc: 0.661827\tvalid_0's binary_logloss: 0.547769\n",
      "[550]\tvalid_0's auc: 0.663667\tvalid_0's binary_logloss: 0.546729\n",
      "Did not meet early stopping. Best iteration is:\n",
      "[550]\tvalid_0's auc: 0.663667\tvalid_0's binary_logloss: 0.546729\n",
      "20\n",
      "Training until validation scores don't improve for 100 rounds\n",
      "[50]\tvalid_0's auc: 0.648075\tvalid_0's binary_logloss: 0.559044\n",
      "[100]\tvalid_0's auc: 0.655679\tvalid_0's binary_logloss: 0.554139\n",
      "[150]\tvalid_0's auc: 0.656105\tvalid_0's binary_logloss: 0.552718\n",
      "[200]\tvalid_0's auc: 0.656802\tvalid_0's binary_logloss: 0.551703\n",
      "[250]\tvalid_0's auc: 0.657638\tvalid_0's binary_logloss: 0.551043\n",
      "[300]\tvalid_0's auc: 0.65895\tvalid_0's binary_logloss: 0.550253\n",
      "[350]\tvalid_0's auc: 0.659651\tvalid_0's binary_logloss: 0.549651\n",
      "[400]\tvalid_0's auc: 0.659986\tvalid_0's binary_logloss: 0.549122\n",
      "[450]\tvalid_0's auc: 0.660283\tvalid_0's binary_logloss: 0.548718\n",
      "[500]\tvalid_0's auc: 0.661827\tvalid_0's binary_logloss: 0.547769\n",
      "[550]\tvalid_0's auc: 0.663667\tvalid_0's binary_logloss: 0.546729\n",
      "Did not meet early stopping. Best iteration is:\n",
      "[550]\tvalid_0's auc: 0.663667\tvalid_0's binary_logloss: 0.546729\n",
      "33\n",
      "Training until validation scores don't improve for 100 rounds\n",
      "[50]\tvalid_0's auc: 0.648075\tvalid_0's binary_logloss: 0.559044\n",
      "[100]\tvalid_0's auc: 0.655679\tvalid_0's binary_logloss: 0.554139\n",
      "[150]\tvalid_0's auc: 0.656105\tvalid_0's binary_logloss: 0.552718\n",
      "[200]\tvalid_0's auc: 0.656802\tvalid_0's binary_logloss: 0.551703\n",
      "[250]\tvalid_0's auc: 0.657638\tvalid_0's binary_logloss: 0.551043\n",
      "[300]\tvalid_0's auc: 0.65895\tvalid_0's binary_logloss: 0.550253\n",
      "[350]\tvalid_0's auc: 0.659651\tvalid_0's binary_logloss: 0.549651\n",
      "[400]\tvalid_0's auc: 0.659986\tvalid_0's binary_logloss: 0.549122\n",
      "[450]\tvalid_0's auc: 0.660283\tvalid_0's binary_logloss: 0.548718\n",
      "[500]\tvalid_0's auc: 0.661827\tvalid_0's binary_logloss: 0.547769\n",
      "[550]\tvalid_0's auc: 0.663667\tvalid_0's binary_logloss: 0.546729\n",
      "Did not meet early stopping. Best iteration is:\n",
      "[550]\tvalid_0's auc: 0.663667\tvalid_0's binary_logloss: 0.546729\n",
      "333\n",
      "Training until validation scores don't improve for 100 rounds\n",
      "[50]\tvalid_0's auc: 0.648075\tvalid_0's binary_logloss: 0.559044\n",
      "[100]\tvalid_0's auc: 0.655679\tvalid_0's binary_logloss: 0.554139\n",
      "[150]\tvalid_0's auc: 0.656105\tvalid_0's binary_logloss: 0.552718\n",
      "[200]\tvalid_0's auc: 0.656802\tvalid_0's binary_logloss: 0.551703\n",
      "[250]\tvalid_0's auc: 0.657638\tvalid_0's binary_logloss: 0.551043\n",
      "[300]\tvalid_0's auc: 0.65895\tvalid_0's binary_logloss: 0.550253\n",
      "[350]\tvalid_0's auc: 0.659651\tvalid_0's binary_logloss: 0.549651\n",
      "[400]\tvalid_0's auc: 0.659986\tvalid_0's binary_logloss: 0.549122\n",
      "[450]\tvalid_0's auc: 0.660283\tvalid_0's binary_logloss: 0.548718\n",
      "[500]\tvalid_0's auc: 0.661827\tvalid_0's binary_logloss: 0.547769\n",
      "[550]\tvalid_0's auc: 0.663667\tvalid_0's binary_logloss: 0.546729\n",
      "Did not meet early stopping. Best iteration is:\n",
      "[550]\tvalid_0's auc: 0.663667\tvalid_0's binary_logloss: 0.546729\n",
      "1997\n",
      "Training until validation scores don't improve for 100 rounds\n",
      "[50]\tvalid_0's auc: 0.648075\tvalid_0's binary_logloss: 0.559044\n",
      "[100]\tvalid_0's auc: 0.655679\tvalid_0's binary_logloss: 0.554139\n",
      "[150]\tvalid_0's auc: 0.656105\tvalid_0's binary_logloss: 0.552718\n",
      "[200]\tvalid_0's auc: 0.656802\tvalid_0's binary_logloss: 0.551703\n",
      "[250]\tvalid_0's auc: 0.657638\tvalid_0's binary_logloss: 0.551043\n",
      "[300]\tvalid_0's auc: 0.65895\tvalid_0's binary_logloss: 0.550253\n",
      "[350]\tvalid_0's auc: 0.659651\tvalid_0's binary_logloss: 0.549651\n",
      "[400]\tvalid_0's auc: 0.659986\tvalid_0's binary_logloss: 0.549122\n",
      "[450]\tvalid_0's auc: 0.660283\tvalid_0's binary_logloss: 0.548718\n",
      "[500]\tvalid_0's auc: 0.661827\tvalid_0's binary_logloss: 0.547769\n",
      "[550]\tvalid_0's auc: 0.663667\tvalid_0's binary_logloss: 0.546729\n",
      "Did not meet early stopping. Best iteration is:\n",
      "[550]\tvalid_0's auc: 0.663667\tvalid_0's binary_logloss: 0.546729\n",
      "2020\n",
      "Training until validation scores don't improve for 100 rounds\n",
      "[50]\tvalid_0's auc: 0.648075\tvalid_0's binary_logloss: 0.559044\n",
      "[100]\tvalid_0's auc: 0.655679\tvalid_0's binary_logloss: 0.554139\n",
      "[150]\tvalid_0's auc: 0.656105\tvalid_0's binary_logloss: 0.552718\n",
      "[200]\tvalid_0's auc: 0.656802\tvalid_0's binary_logloss: 0.551703\n",
      "[250]\tvalid_0's auc: 0.657638\tvalid_0's binary_logloss: 0.551043\n",
      "[300]\tvalid_0's auc: 0.65895\tvalid_0's binary_logloss: 0.550253\n",
      "[350]\tvalid_0's auc: 0.659651\tvalid_0's binary_logloss: 0.549651\n",
      "[400]\tvalid_0's auc: 0.659986\tvalid_0's binary_logloss: 0.549122\n",
      "[450]\tvalid_0's auc: 0.660283\tvalid_0's binary_logloss: 0.548718\n",
      "[500]\tvalid_0's auc: 0.661827\tvalid_0's binary_logloss: 0.547769\n",
      "[550]\tvalid_0's auc: 0.663667\tvalid_0's binary_logloss: 0.546729\n",
      "Did not meet early stopping. Best iteration is:\n",
      "[550]\tvalid_0's auc: 0.663667\tvalid_0's binary_logloss: 0.546729\n",
      "2021\n",
      "Training until validation scores don't improve for 100 rounds\n",
      "[50]\tvalid_0's auc: 0.648075\tvalid_0's binary_logloss: 0.559044\n",
      "[100]\tvalid_0's auc: 0.655679\tvalid_0's binary_logloss: 0.554139\n"
     ]
    },
    {
     "name": "stdout",
     "output_type": "stream",
     "text": [
      "[150]\tvalid_0's auc: 0.656105\tvalid_0's binary_logloss: 0.552718\n",
      "[200]\tvalid_0's auc: 0.656802\tvalid_0's binary_logloss: 0.551703\n",
      "[250]\tvalid_0's auc: 0.657638\tvalid_0's binary_logloss: 0.551043\n",
      "[300]\tvalid_0's auc: 0.65895\tvalid_0's binary_logloss: 0.550253\n",
      "[350]\tvalid_0's auc: 0.659651\tvalid_0's binary_logloss: 0.549651\n",
      "[400]\tvalid_0's auc: 0.659986\tvalid_0's binary_logloss: 0.549122\n",
      "[450]\tvalid_0's auc: 0.660283\tvalid_0's binary_logloss: 0.548718\n",
      "[500]\tvalid_0's auc: 0.661827\tvalid_0's binary_logloss: 0.547769\n",
      "[550]\tvalid_0's auc: 0.663667\tvalid_0's binary_logloss: 0.546729\n",
      "Did not meet early stopping. Best iteration is:\n",
      "[550]\tvalid_0's auc: 0.663667\tvalid_0's binary_logloss: 0.546729\n"
     ]
    }
   ],
   "source": [
    "from lightgbm import LGBMClassifier\n",
    "for seed_val in [1,3,10,15,20,33,333,1997,2020,2021]:\n",
    "    print(seed_val)\n",
    "    clf = LGBMClassifier(n_estimators=550,\n",
    "                     learning_rate=0.03,\n",
    "                     min_child_samples=20,\n",
    "                     random_state=seed_val,\n",
    "                     colsample_bytree=1,\n",
    "                     reg_alpha=2,\n",
    "                     reg_lambda=2,class_weight={0:0.35,1:0.65})\n",
    "    clf.fit(X_train, y_train, eval_set=[(X_test, y_test)], verbose=50,\n",
    "        eval_metric = 'auc', early_stopping_rounds = 100)\n",
    "    preds = clf.predict_proba(X_test)[:, 1]"
   ]
  },
  {
   "cell_type": "code",
   "execution_count": 51,
   "metadata": {},
   "outputs": [
    {
     "data": {
      "text/plain": [
       "ID                           int64\n",
       "City_Code                    int64\n",
       "Region_Code                  int64\n",
       "Accomodation_Type           object\n",
       "Reco_Insurance_Type         object\n",
       "Upper_Age                    int64\n",
       "Lower_Age                    int64\n",
       "Is_Spouse                   object\n",
       "Health Indicator             int64\n",
       "Holding_Policy_Duration     object\n",
       "Holding_Policy_Type        float64\n",
       "Reco_Policy_Cat              int64\n",
       "Reco_Policy_Premium        float64\n",
       "Response                     int64\n",
       "dtype: object"
      ]
     },
     "execution_count": 51,
     "metadata": {},
     "output_type": "execute_result"
    }
   ],
   "source": [
    "df.dtypes"
   ]
  },
  {
   "cell_type": "code",
   "execution_count": 95,
   "metadata": {},
   "outputs": [],
   "source": [
    "df_test = pd.read_csv('Data/test.csv')"
   ]
  },
  {
   "cell_type": "code",
   "execution_count": 109,
   "metadata": {},
   "outputs": [
    {
     "data": {
      "text/html": [
       "<div>\n",
       "<style scoped>\n",
       "    .dataframe tbody tr th:only-of-type {\n",
       "        vertical-align: middle;\n",
       "    }\n",
       "\n",
       "    .dataframe tbody tr th {\n",
       "        vertical-align: top;\n",
       "    }\n",
       "\n",
       "    .dataframe thead th {\n",
       "        text-align: right;\n",
       "    }\n",
       "</style>\n",
       "<table border=\"1\" class=\"dataframe\">\n",
       "  <thead>\n",
       "    <tr style=\"text-align: right;\">\n",
       "      <th></th>\n",
       "      <th>ID</th>\n",
       "    </tr>\n",
       "  </thead>\n",
       "  <tbody>\n",
       "    <tr>\n",
       "      <th>0</th>\n",
       "      <td>50883</td>\n",
       "    </tr>\n",
       "    <tr>\n",
       "      <th>1</th>\n",
       "      <td>50884</td>\n",
       "    </tr>\n",
       "    <tr>\n",
       "      <th>2</th>\n",
       "      <td>50885</td>\n",
       "    </tr>\n",
       "    <tr>\n",
       "      <th>3</th>\n",
       "      <td>50886</td>\n",
       "    </tr>\n",
       "    <tr>\n",
       "      <th>4</th>\n",
       "      <td>50887</td>\n",
       "    </tr>\n",
       "    <tr>\n",
       "      <th>...</th>\n",
       "      <td>...</td>\n",
       "    </tr>\n",
       "    <tr>\n",
       "      <th>21800</th>\n",
       "      <td>72683</td>\n",
       "    </tr>\n",
       "    <tr>\n",
       "      <th>21801</th>\n",
       "      <td>72684</td>\n",
       "    </tr>\n",
       "    <tr>\n",
       "      <th>21802</th>\n",
       "      <td>72685</td>\n",
       "    </tr>\n",
       "    <tr>\n",
       "      <th>21803</th>\n",
       "      <td>72686</td>\n",
       "    </tr>\n",
       "    <tr>\n",
       "      <th>21804</th>\n",
       "      <td>72687</td>\n",
       "    </tr>\n",
       "  </tbody>\n",
       "</table>\n",
       "<p>21805 rows × 1 columns</p>\n",
       "</div>"
      ],
      "text/plain": [
       "          ID\n",
       "0      50883\n",
       "1      50884\n",
       "2      50885\n",
       "3      50886\n",
       "4      50887\n",
       "...      ...\n",
       "21800  72683\n",
       "21801  72684\n",
       "21802  72685\n",
       "21803  72686\n",
       "21804  72687\n",
       "\n",
       "[21805 rows x 1 columns]"
      ]
     },
     "execution_count": 109,
     "metadata": {},
     "output_type": "execute_result"
    }
   ],
   "source": [
    "ID = df_test[['ID']]\n",
    "ID"
   ]
  },
  {
   "cell_type": "code",
   "execution_count": 96,
   "metadata": {},
   "outputs": [],
   "source": [
    "df_test['Holding_Policy_Duration'] = df_test['Holding_Policy_Duration'].replace('14+',15.0)\n",
    "df_test['Holding_Policy_Duration'] = df_test['Holding_Policy_Duration'].astype(float)\n",
    "df_test['Health Indicator'] = df_test['Health Indicator'].fillna('X0')\n",
    "df_test['Holding_Policy_Duration'] = df_test['Holding_Policy_Duration'].fillna(df_test['Holding_Policy_Duration'].median())\n",
    "df_test['Holding_Policy_Type'] = df_test['Holding_Policy_Type'].fillna(df_test['Holding_Policy_Type'].median())\n",
    "\n",
    "f_df = pd.get_dummies(df,columns=['Accomodation_Type', 'Reco_Insurance_Type', 'Is_Spouse'],drop_first=True)\n"
   ]
  },
  {
   "cell_type": "code",
   "execution_count": 97,
   "metadata": {},
   "outputs": [
    {
     "data": {
      "text/plain": [
       "Index(['ID', 'City_Code', 'Region_Code', 'Upper_Age', 'Lower_Age',\n",
       "       'Health Indicator', 'Holding_Policy_Duration', 'Holding_Policy_Type',\n",
       "       'Reco_Policy_Cat', 'Reco_Policy_Premium', 'Response',\n",
       "       'Accomodation_Type_Rented', 'Reco_Insurance_Type_Joint',\n",
       "       'Is_Spouse_Yes'],\n",
       "      dtype='object')"
      ]
     },
     "execution_count": 97,
     "metadata": {},
     "output_type": "execute_result"
    }
   ],
   "source": [
    "f_df.columns"
   ]
  },
  {
   "cell_type": "code",
   "execution_count": 98,
   "metadata": {},
   "outputs": [],
   "source": [
    "ID = f_df['ID']"
   ]
  },
  {
   "cell_type": "code",
   "execution_count": 99,
   "metadata": {},
   "outputs": [],
   "source": [
    "f_df.drop('ID',axis=1,inplace=True)"
   ]
  },
  {
   "cell_type": "code",
   "execution_count": 100,
   "metadata": {},
   "outputs": [],
   "source": [
    "clf = LGBMClassifier(n_estimators=550,\n",
    "                     learning_rate=0.03,\n",
    "                     min_child_samples=20,\n",
    "                     random_state=seed_val,\n",
    "                     colsample_bytree=1,\n",
    "                     reg_alpha=2,\n",
    "                     reg_lambda=2)"
   ]
  },
  {
   "cell_type": "code",
   "execution_count": 102,
   "metadata": {},
   "outputs": [
    {
     "data": {
      "text/plain": [
       "((50882, 13), (50882, 13))"
      ]
     },
     "execution_count": 102,
     "metadata": {},
     "output_type": "execute_result"
    }
   ],
   "source": [
    "X.shape,f_df.shape"
   ]
  },
  {
   "cell_type": "code",
   "execution_count": 101,
   "metadata": {},
   "outputs": [
    {
     "data": {
      "text/plain": [
       "LGBMClassifier(colsample_bytree=1, learning_rate=0.03, n_estimators=550,\n",
       "               random_state=2021, reg_alpha=2, reg_lambda=2)"
      ]
     },
     "execution_count": 101,
     "metadata": {},
     "output_type": "execute_result"
    }
   ],
   "source": [
    "clf.fit(X,y)"
   ]
  },
  {
   "cell_type": "code",
   "execution_count": 103,
   "metadata": {},
   "outputs": [],
   "source": [
    "preds = clf.predict_proba(f_df)[:, 1]"
   ]
  },
  {
   "cell_type": "code",
   "execution_count": 107,
   "metadata": {},
   "outputs": [
    {
     "data": {
      "text/plain": [
       "0            1\n",
       "1            2\n",
       "2            3\n",
       "3            4\n",
       "4            5\n",
       "         ...  \n",
       "50877    50878\n",
       "50878    50879\n",
       "50879    50880\n",
       "50880    50881\n",
       "50881    50882\n",
       "Name: ID, Length: 50882, dtype: int64"
      ]
     },
     "execution_count": 107,
     "metadata": {},
     "output_type": "execute_result"
    }
   ],
   "source": [
    "ID"
   ]
  },
  {
   "cell_type": "code",
   "execution_count": null,
   "metadata": {},
   "outputs": [],
   "source": []
  },
  {
   "cell_type": "code",
   "execution_count": 112,
   "metadata": {},
   "outputs": [
    {
     "ename": "TypeError",
     "evalue": "Index(...) must be called with a collection of some kind, False was passed",
     "output_type": "error",
     "traceback": [
      "\u001b[1;31m---------------------------------------------------------------------------\u001b[0m",
      "\u001b[1;31mTypeError\u001b[0m                                 Traceback (most recent call last)",
      "\u001b[1;32m<ipython-input-112-ee2d5ed7951d>\u001b[0m in \u001b[0;36m<module>\u001b[1;34m\u001b[0m\n\u001b[1;32m----> 1\u001b[1;33m \u001b[0moutput\u001b[0m \u001b[1;33m=\u001b[0m \u001b[0mpd\u001b[0m\u001b[1;33m.\u001b[0m\u001b[0mDataFrame\u001b[0m\u001b[1;33m(\u001b[0m\u001b[0mdata\u001b[0m\u001b[1;33m=\u001b[0m\u001b[1;33m{\u001b[0m\u001b[1;34m\"ID\"\u001b[0m\u001b[1;33m:\u001b[0m\u001b[0mdf_test\u001b[0m\u001b[1;33m[\u001b[0m\u001b[1;34m'ID'\u001b[0m\u001b[1;33m]\u001b[0m\u001b[1;33m,\u001b[0m\u001b[1;34m\"Response\"\u001b[0m\u001b[1;33m:\u001b[0m\u001b[0mpreds\u001b[0m\u001b[1;33m}\u001b[0m\u001b[1;33m,\u001b[0m\u001b[0mindex\u001b[0m\u001b[1;33m=\u001b[0m\u001b[1;32mFalse\u001b[0m\u001b[1;33m)\u001b[0m\u001b[1;33m\u001b[0m\u001b[1;33m\u001b[0m\u001b[0m\n\u001b[0m\u001b[0;32m      2\u001b[0m \u001b[0moutput\u001b[0m\u001b[1;33m\u001b[0m\u001b[1;33m\u001b[0m\u001b[0m\n",
      "\u001b[1;32mC:\\ProgramData\\Anaconda3\\lib\\site-packages\\pandas\\core\\frame.py\u001b[0m in \u001b[0;36m__init__\u001b[1;34m(self, data, index, columns, dtype, copy)\u001b[0m\n\u001b[0;32m    466\u001b[0m \u001b[1;33m\u001b[0m\u001b[0m\n\u001b[0;32m    467\u001b[0m         \u001b[1;32melif\u001b[0m \u001b[0misinstance\u001b[0m\u001b[1;33m(\u001b[0m\u001b[0mdata\u001b[0m\u001b[1;33m,\u001b[0m \u001b[0mdict\u001b[0m\u001b[1;33m)\u001b[0m\u001b[1;33m:\u001b[0m\u001b[1;33m\u001b[0m\u001b[1;33m\u001b[0m\u001b[0m\n\u001b[1;32m--> 468\u001b[1;33m             \u001b[0mmgr\u001b[0m \u001b[1;33m=\u001b[0m \u001b[0minit_dict\u001b[0m\u001b[1;33m(\u001b[0m\u001b[0mdata\u001b[0m\u001b[1;33m,\u001b[0m \u001b[0mindex\u001b[0m\u001b[1;33m,\u001b[0m \u001b[0mcolumns\u001b[0m\u001b[1;33m,\u001b[0m \u001b[0mdtype\u001b[0m\u001b[1;33m=\u001b[0m\u001b[0mdtype\u001b[0m\u001b[1;33m)\u001b[0m\u001b[1;33m\u001b[0m\u001b[1;33m\u001b[0m\u001b[0m\n\u001b[0m\u001b[0;32m    469\u001b[0m         \u001b[1;32melif\u001b[0m \u001b[0misinstance\u001b[0m\u001b[1;33m(\u001b[0m\u001b[0mdata\u001b[0m\u001b[1;33m,\u001b[0m \u001b[0mma\u001b[0m\u001b[1;33m.\u001b[0m\u001b[0mMaskedArray\u001b[0m\u001b[1;33m)\u001b[0m\u001b[1;33m:\u001b[0m\u001b[1;33m\u001b[0m\u001b[1;33m\u001b[0m\u001b[0m\n\u001b[0;32m    470\u001b[0m             \u001b[1;32mimport\u001b[0m \u001b[0mnumpy\u001b[0m\u001b[1;33m.\u001b[0m\u001b[0mma\u001b[0m\u001b[1;33m.\u001b[0m\u001b[0mmrecords\u001b[0m \u001b[1;32mas\u001b[0m \u001b[0mmrecords\u001b[0m\u001b[1;33m\u001b[0m\u001b[1;33m\u001b[0m\u001b[0m\n",
      "\u001b[1;32mC:\\ProgramData\\Anaconda3\\lib\\site-packages\\pandas\\core\\internals\\construction.py\u001b[0m in \u001b[0;36minit_dict\u001b[1;34m(data, index, columns, dtype)\u001b[0m\n\u001b[0;32m    281\u001b[0m             \u001b[0marr\u001b[0m \u001b[1;32mif\u001b[0m \u001b[1;32mnot\u001b[0m \u001b[0mis_datetime64tz_dtype\u001b[0m\u001b[1;33m(\u001b[0m\u001b[0marr\u001b[0m\u001b[1;33m)\u001b[0m \u001b[1;32melse\u001b[0m \u001b[0marr\u001b[0m\u001b[1;33m.\u001b[0m\u001b[0mcopy\u001b[0m\u001b[1;33m(\u001b[0m\u001b[1;33m)\u001b[0m \u001b[1;32mfor\u001b[0m \u001b[0marr\u001b[0m \u001b[1;32min\u001b[0m \u001b[0marrays\u001b[0m\u001b[1;33m\u001b[0m\u001b[1;33m\u001b[0m\u001b[0m\n\u001b[0;32m    282\u001b[0m         ]\n\u001b[1;32m--> 283\u001b[1;33m     \u001b[1;32mreturn\u001b[0m \u001b[0marrays_to_mgr\u001b[0m\u001b[1;33m(\u001b[0m\u001b[0marrays\u001b[0m\u001b[1;33m,\u001b[0m \u001b[0mdata_names\u001b[0m\u001b[1;33m,\u001b[0m \u001b[0mindex\u001b[0m\u001b[1;33m,\u001b[0m \u001b[0mcolumns\u001b[0m\u001b[1;33m,\u001b[0m \u001b[0mdtype\u001b[0m\u001b[1;33m=\u001b[0m\u001b[0mdtype\u001b[0m\u001b[1;33m)\u001b[0m\u001b[1;33m\u001b[0m\u001b[1;33m\u001b[0m\u001b[0m\n\u001b[0m\u001b[0;32m    284\u001b[0m \u001b[1;33m\u001b[0m\u001b[0m\n\u001b[0;32m    285\u001b[0m \u001b[1;33m\u001b[0m\u001b[0m\n",
      "\u001b[1;32mC:\\ProgramData\\Anaconda3\\lib\\site-packages\\pandas\\core\\internals\\construction.py\u001b[0m in \u001b[0;36marrays_to_mgr\u001b[1;34m(arrays, arr_names, index, columns, dtype, verify_integrity)\u001b[0m\n\u001b[0;32m     78\u001b[0m             \u001b[0mindex\u001b[0m \u001b[1;33m=\u001b[0m \u001b[0mextract_index\u001b[0m\u001b[1;33m(\u001b[0m\u001b[0marrays\u001b[0m\u001b[1;33m)\u001b[0m\u001b[1;33m\u001b[0m\u001b[1;33m\u001b[0m\u001b[0m\n\u001b[0;32m     79\u001b[0m         \u001b[1;32melse\u001b[0m\u001b[1;33m:\u001b[0m\u001b[1;33m\u001b[0m\u001b[1;33m\u001b[0m\u001b[0m\n\u001b[1;32m---> 80\u001b[1;33m             \u001b[0mindex\u001b[0m \u001b[1;33m=\u001b[0m \u001b[0mensure_index\u001b[0m\u001b[1;33m(\u001b[0m\u001b[0mindex\u001b[0m\u001b[1;33m)\u001b[0m\u001b[1;33m\u001b[0m\u001b[1;33m\u001b[0m\u001b[0m\n\u001b[0m\u001b[0;32m     81\u001b[0m \u001b[1;33m\u001b[0m\u001b[0m\n\u001b[0;32m     82\u001b[0m         \u001b[1;31m# don't force copy because getting jammed in an ndarray anyway\u001b[0m\u001b[1;33m\u001b[0m\u001b[1;33m\u001b[0m\u001b[1;33m\u001b[0m\u001b[0m\n",
      "\u001b[1;32mC:\\ProgramData\\Anaconda3\\lib\\site-packages\\pandas\\core\\indexes\\base.py\u001b[0m in \u001b[0;36mensure_index\u001b[1;34m(index_like, copy)\u001b[0m\n\u001b[0;32m   5616\u001b[0m             \u001b[0mindex_like\u001b[0m \u001b[1;33m=\u001b[0m \u001b[0mcopy_func\u001b[0m\u001b[1;33m(\u001b[0m\u001b[0mindex_like\u001b[0m\u001b[1;33m)\u001b[0m\u001b[1;33m\u001b[0m\u001b[1;33m\u001b[0m\u001b[0m\n\u001b[0;32m   5617\u001b[0m \u001b[1;33m\u001b[0m\u001b[0m\n\u001b[1;32m-> 5618\u001b[1;33m     \u001b[1;32mreturn\u001b[0m \u001b[0mIndex\u001b[0m\u001b[1;33m(\u001b[0m\u001b[0mindex_like\u001b[0m\u001b[1;33m)\u001b[0m\u001b[1;33m\u001b[0m\u001b[1;33m\u001b[0m\u001b[0m\n\u001b[0m\u001b[0;32m   5619\u001b[0m \u001b[1;33m\u001b[0m\u001b[0m\n\u001b[0;32m   5620\u001b[0m \u001b[1;33m\u001b[0m\u001b[0m\n",
      "\u001b[1;32mC:\\ProgramData\\Anaconda3\\lib\\site-packages\\pandas\\core\\indexes\\base.py\u001b[0m in \u001b[0;36m__new__\u001b[1;34m(cls, data, dtype, copy, name, tupleize_cols, **kwargs)\u001b[0m\n\u001b[0;32m    413\u001b[0m \u001b[1;33m\u001b[0m\u001b[0m\n\u001b[0;32m    414\u001b[0m         \u001b[1;32melif\u001b[0m \u001b[0mdata\u001b[0m \u001b[1;32mis\u001b[0m \u001b[1;32mNone\u001b[0m \u001b[1;32mor\u001b[0m \u001b[0mis_scalar\u001b[0m\u001b[1;33m(\u001b[0m\u001b[0mdata\u001b[0m\u001b[1;33m)\u001b[0m\u001b[1;33m:\u001b[0m\u001b[1;33m\u001b[0m\u001b[1;33m\u001b[0m\u001b[0m\n\u001b[1;32m--> 415\u001b[1;33m             \u001b[1;32mraise\u001b[0m \u001b[0mcls\u001b[0m\u001b[1;33m.\u001b[0m\u001b[0m_scalar_data_error\u001b[0m\u001b[1;33m(\u001b[0m\u001b[0mdata\u001b[0m\u001b[1;33m)\u001b[0m\u001b[1;33m\u001b[0m\u001b[1;33m\u001b[0m\u001b[0m\n\u001b[0m\u001b[0;32m    416\u001b[0m         \u001b[1;32melif\u001b[0m \u001b[0mhasattr\u001b[0m\u001b[1;33m(\u001b[0m\u001b[0mdata\u001b[0m\u001b[1;33m,\u001b[0m \u001b[1;34m\"__array__\"\u001b[0m\u001b[1;33m)\u001b[0m\u001b[1;33m:\u001b[0m\u001b[1;33m\u001b[0m\u001b[1;33m\u001b[0m\u001b[0m\n\u001b[0;32m    417\u001b[0m             \u001b[1;32mreturn\u001b[0m \u001b[0mIndex\u001b[0m\u001b[1;33m(\u001b[0m\u001b[0mnp\u001b[0m\u001b[1;33m.\u001b[0m\u001b[0masarray\u001b[0m\u001b[1;33m(\u001b[0m\u001b[0mdata\u001b[0m\u001b[1;33m)\u001b[0m\u001b[1;33m,\u001b[0m \u001b[0mdtype\u001b[0m\u001b[1;33m=\u001b[0m\u001b[0mdtype\u001b[0m\u001b[1;33m,\u001b[0m \u001b[0mcopy\u001b[0m\u001b[1;33m=\u001b[0m\u001b[0mcopy\u001b[0m\u001b[1;33m,\u001b[0m \u001b[0mname\u001b[0m\u001b[1;33m=\u001b[0m\u001b[0mname\u001b[0m\u001b[1;33m,\u001b[0m \u001b[1;33m**\u001b[0m\u001b[0mkwargs\u001b[0m\u001b[1;33m)\u001b[0m\u001b[1;33m\u001b[0m\u001b[1;33m\u001b[0m\u001b[0m\n",
      "\u001b[1;31mTypeError\u001b[0m: Index(...) must be called with a collection of some kind, False was passed"
     ]
    }
   ],
   "source": [
    "output = pd.DataFrame(data={\"ID\":df_test['ID'],\"Response\":preds})\n",
    "output"
   ]
  },
  {
   "cell_type": "code",
   "execution_count": 105,
   "metadata": {},
   "outputs": [],
   "source": [
    "output.to_csv('sub1.csv',index=False)"
   ]
  },
  {
   "cell_type": "code",
   "execution_count": 106,
   "metadata": {},
   "outputs": [
    {
     "data": {
      "text/plain": [
       "((50882, 13), (50882, 2))"
      ]
     },
     "execution_count": 106,
     "metadata": {},
     "output_type": "execute_result"
    }
   ],
   "source": [
    "f_df.shape,output.shape"
   ]
  },
  {
   "cell_type": "code",
   "execution_count": null,
   "metadata": {},
   "outputs": [],
   "source": []
  }
 ],
 "metadata": {
  "kernelspec": {
   "display_name": "Python 3",
   "language": "python",
   "name": "python3"
  },
  "language_info": {
   "codemirror_mode": {
    "name": "ipython",
    "version": 3
   },
   "file_extension": ".py",
   "mimetype": "text/x-python",
   "name": "python",
   "nbconvert_exporter": "python",
   "pygments_lexer": "ipython3",
   "version": "3.8.5"
  }
 },
 "nbformat": 4,
 "nbformat_minor": 4
}
